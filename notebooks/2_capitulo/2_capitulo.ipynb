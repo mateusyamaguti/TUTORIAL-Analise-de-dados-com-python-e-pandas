{
 "cells": [
  {
   "cell_type": "markdown",
   "id": "46582c60-0a56-4ba0-ad80-6f9d13c82147",
   "metadata": {},
   "source": [
    "# Estruturas de dados do Pandas\n",
    "\n",
    "Este capítulo tem por objetivo abordar:\n",
    "- Carga de dados manual\n",
    "- O objeto **Séries**\n",
    "- Operações básicas em objetos **Séries**\n",
    "- Subconjunto condicionais e fatiamento e indexação sofisticados\n",
    "- Como salvar dados"
   ]
  },
  {
   "cell_type": "markdown",
   "id": "a49f955e-0609-4aa0-8ab3-3b33d0b10d83",
   "metadata": {},
   "source": [
    "### Criando seus próprios dados\n",
    "\n",
    "Criando uma Series<br>\n",
    "Uma Series representa um conteiner unidimensional em pandas semelhante uma lista em Python. As Series representam os registros dos valores de uma coluna, as quais possuem um tipo único. O jeito mais fácil de criar uma Series em pandas é passar uma lista para ele, o seu tipo será o tipo mais comum da lista."
   ]
  },
  {
   "cell_type": "code",
   "execution_count": 3,
   "id": "9f3ecc23-0711-4d6a-a3f2-7eeb2f5cdb63",
   "metadata": {},
   "outputs": [
    {
     "name": "stdout",
     "output_type": "stream",
     "text": [
      "0    banana\n",
      "1        42\n",
      "dtype: object\n"
     ]
    }
   ],
   "source": [
    "import pandas as pd\n",
    "\n",
    "s = pd.Series(['banana', 42])\n",
    "print(s)"
   ]
  },
  {
   "cell_type": "code",
   "execution_count": 4,
   "id": "8b66e581-3019-480e-a652-4fbff2435b0d",
   "metadata": {},
   "outputs": [
    {
     "name": "stdout",
     "output_type": "stream",
     "text": [
      "Person          Wes McKinny\n",
      "Who       Creator of Pandas\n",
      "dtype: object\n"
     ]
    }
   ],
   "source": [
    "# Atribui valores de índice manualmente em uma série\n",
    "# passando uma lista Python\n",
    "s = pd.Series([\"Wes McKinny\", \"Creator of Pandas\"], index=[\"Person\", \"Who\"])\n",
    "print(s)"
   ]
  },
  {
   "cell_type": "code",
   "execution_count": 5,
   "id": "a61ae154-ddb6-4c3d-86d0-64a92c8f61b3",
   "metadata": {},
   "outputs": [
    {
     "name": "stdout",
     "output_type": "stream",
     "text": [
      "Person    NaN\n",
      "Who       NaN\n",
      "na        NaN\n",
      "dtype: object\n"
     ]
    }
   ],
   "source": [
    "s = pd.Series({\"nome\": \"Alice\", \"idade\": 30, \"cidade\": \"São Paulo\"}, index=[\"Person\", \"Who\", \"na\"])\n",
    "print(s)\n",
    "# nesta caso com a series sendo um dicionário, não ocorreru nenhum problema, mas retornou Nan"
   ]
  },
  {
   "cell_type": "code",
   "execution_count": 6,
   "id": "366b70df-b8d6-4deb-88c1-36d7cfebad49",
   "metadata": {},
   "outputs": [
    {
     "name": "stdout",
     "output_type": "stream",
     "text": [
      "Person     nome\n",
      "Who       Alice\n",
      "na        idade\n",
      "dtype: object\n"
     ]
    }
   ],
   "source": [
    "s = pd.Series((\"nome\", \"Alice\", \"idade\"), index=[\"Person\", \"Who\", \"na\"])\n",
    "print(s)\n",
    "# Neste caso, a tupla e o index precisa ser de mesma quantidade de tamanho"
   ]
  },
  {
   "cell_type": "markdown",
   "id": "47349923-54ac-4a58-9a28-4dc7f3fc6e84",
   "metadata": {},
   "source": [
    "***Criando um dataframe**: Podemos criar um dataframe de forma semelhante que a criação de dicionário em Python"
   ]
  },
  {
   "cell_type": "code",
   "execution_count": 7,
   "id": "7eb9d580-90db-4596-a132-3da45f355ec8",
   "metadata": {},
   "outputs": [
    {
     "name": "stdout",
     "output_type": "stream",
     "text": [
      "                Name    Occupation        Born        Died  Age\n",
      "0  Rosaline Franklin       Chemist  1920-07-25  1958-04-16   37\n",
      "1     William Gosset  Statistician  1876-06-13  1937-10-16   61\n"
     ]
    }
   ],
   "source": [
    "scientists = pd.DataFrame({\n",
    "    \"Name\":[\"Rosaline Franklin\", \"William Gosset\"],\n",
    "    \"Occupation\":[\"Chemist\", \"Statistician\"],\n",
    "    \"Born\":[\"1920-07-25\", \"1876-06-13\"],\n",
    "    \"Died\":[\"1958-04-16\", \"1937-10-16\"],\n",
    "    \"Age\":[37, 61]\n",
    "})\n",
    "\n",
    "print(scientists)"
   ]
  },
  {
   "cell_type": "markdown",
   "id": "5fec6dd4-5978-447c-beaf-1355e54ffde5",
   "metadata": {},
   "source": [
    "Podemos especificar a ordem das colunas e o índice da linha, como se quisessemos que os nomes tornassem a ser os índices. Posteriormente em columns também podemos alterar a ordem das colunas."
   ]
  },
  {
   "cell_type": "code",
   "execution_count": 8,
   "id": "f8dd221d-56af-4b63-ae67-db115813a6e7",
   "metadata": {},
   "outputs": [
    {
     "name": "stdout",
     "output_type": "stream",
     "text": [
      "                     Occupation        Born        Died  Age\n",
      "Rosaline Franklin       Chemist  1920-07-25  1958-04-16   37\n",
      "William Gosset     Statistician  1876-06-13  1937-10-16   61\n"
     ]
    }
   ],
   "source": [
    "scientists = pd.DataFrame(\n",
    "    data = {\"Occupation\":[\"Chemist\", \"Statistician\"],\n",
    "            \"Born\":[\"1920-07-25\", \"1876-06-13\"],\n",
    "            \"Died\":[\"1958-04-16\", \"1937-10-16\"],\n",
    "            \"Age\":[37, 61]},\n",
    "    index = [\"Rosaline Franklin\", \"William Gosset\"],\n",
    "    columns = [\"Occupation\", \"Born\", \"Died\", \"Age\"]\n",
    ")\n",
    "\n",
    "print(scientists)"
   ]
  },
  {
   "cell_type": "markdown",
   "id": "48332903-3fab-4990-9a6f-f0ebd76fb1d6",
   "metadata": {},
   "source": [
    "Porém como em Python os dicionários não são objetos ordenados, para garantir as ordem do dataframe precisamos utilizar o método `OrderedDict()` presente na biblioteca **collections**"
   ]
  },
  {
   "cell_type": "code",
   "execution_count": 9,
   "id": "59e0e478-ce33-4b7e-be90-35427d7f75a4",
   "metadata": {},
   "outputs": [
    {
     "name": "stdout",
     "output_type": "stream",
     "text": [
      "                Name    Occupation        Born        Died  Age\n",
      "0  Rosaline Franklin       Chemist  1920-07-25  1958-04-16   37\n",
      "1     William Gosset  Statistician  1876-06-13  1937-10-16   61\n"
     ]
    }
   ],
   "source": [
    "from collections import OrderedDict\n",
    "\n",
    "\n",
    "scientists = pd.DataFrame(OrderedDict([\n",
    "    (\"Name\", [\"Rosaline Franklin\", \"William Gosset\"]),\n",
    "    (\"Occupation\", [\"Chemist\", \"Statistician\"]),\n",
    "    (\"Born\", [\"1920-07-25\", \"1876-06-13\"]),\n",
    "    (\"Died\", [\"1958-04-16\", \"1937-10-16\"]),\n",
    "    (\"Age\", [37, 61])\n",
    "    ])\n",
    ")\n",
    "\n",
    "print(scientists)"
   ]
  },
  {
   "cell_type": "markdown",
   "id": "cfbcf896-b3bd-4042-b39a-e0a91929ccf1",
   "metadata": {},
   "source": [
    "### Series\n",
    "\n",
    "O fatiamento dos dataframe afeta o type para uma series"
   ]
  },
  {
   "cell_type": "code",
   "execution_count": 10,
   "id": "014488ec-8d0a-4a91-812b-790353c5f6cd",
   "metadata": {},
   "outputs": [
    {
     "name": "stdout",
     "output_type": "stream",
     "text": [
      "Tipo de scientists: <class 'pandas.core.frame.DataFrame'>\n"
     ]
    }
   ],
   "source": [
    "scientists = pd.DataFrame(\n",
    "    data = {\"Occupation\":[\"Chemist\", \"Statistician\"],\n",
    "            \"Born\":[\"1920-07-25\", \"1876-06-13\"],\n",
    "            \"Died\":[\"1958-04-16\", \"1937-10-16\"],\n",
    "            \"Age\":[37, 61]},\n",
    "    index = [\"Rosaline Franklin\", \"William Gosset\"],\n",
    "    columns = [\"Occupation\", \"Born\", \"Died\", \"Age\"]\n",
    ")\n",
    "\n",
    "print(f\"Tipo de scientists: {type(scientists)}\")"
   ]
  },
  {
   "cell_type": "code",
   "execution_count": 11,
   "id": "f22e93f4-63ea-4696-84f9-6f656fb513c4",
   "metadata": {},
   "outputs": [
    {
     "name": "stdout",
     "output_type": "stream",
     "text": [
      "<class 'pandas.core.series.Series'>\n"
     ]
    }
   ],
   "source": [
    "# Agora selecionamos um cientista pelo rótulo do índice\n",
    "first_row = scientists.loc[\"William Gosset\"]\n",
    "print(type(first_row))"
   ]
  },
  {
   "cell_type": "markdown",
   "id": "e09e9b74-c7ed-49c3-9a6a-b1d4dda8b10d",
   "metadata": {},
   "source": [
    "Perceba que após fatiarmos o dataframe com a função `loc()`, o do objeto mudou para um series. "
   ]
  },
  {
   "cell_type": "code",
   "execution_count": 12,
   "id": "6a489c5b-dbe8-435c-8fb9-41e7b19f3bdb",
   "metadata": {},
   "outputs": [
    {
     "name": "stdout",
     "output_type": "stream",
     "text": [
      "Occupation    Statistician\n",
      "Born            1876-06-13\n",
      "Died            1937-10-16\n",
      "Age                     61\n",
      "Name: William Gosset, dtype: object\n"
     ]
    }
   ],
   "source": [
    "# Apresentar a linha que representa o cientista Willian Gosset\n",
    "print(first_row)"
   ]
  },
  {
   "cell_type": "markdown",
   "id": "67d8f217-aeb2-440f-8a72-ffb2bcad9ca7",
   "metadata": {},
   "source": [
    "É comum termos muitos índices e colunas em um dataframe. Para isso podemos usar os atributos `index` e `values`"
   ]
  },
  {
   "cell_type": "code",
   "execution_count": 13,
   "id": "18e0b1ea-2e9a-4a85-88d8-8d4f779d56c8",
   "metadata": {},
   "outputs": [
    {
     "name": "stdout",
     "output_type": "stream",
     "text": [
      "Índices: Index(['Occupation', 'Born', 'Died', 'Age'], dtype='object')\n",
      "\n",
      "Valores: ['Statistician' '1876-06-13' '1937-10-16' np.int64(61)]\n"
     ]
    }
   ],
   "source": [
    "print(f\"Índices: {first_row.index}\\n\")\n",
    "print(f\"Valores: {first_row.values}\")"
   ]
  },
  {
   "cell_type": "code",
   "execution_count": 14,
   "id": "8898d234-1ea5-422c-a57a-63bc6532dbd6",
   "metadata": {},
   "outputs": [
    {
     "name": "stdout",
     "output_type": "stream",
     "text": [
      "Index(['Occupation', 'Born', 'Died', 'Age'], dtype='object')\n"
     ]
    }
   ],
   "source": [
    "# Um método que funciona semelhante ao atributo index é keys()\n",
    "print(first_row.keys())"
   ]
  },
  {
   "cell_type": "code",
   "execution_count": 15,
   "id": "0e88c776-9747-4c06-a9c9-a30b8dd04795",
   "metadata": {},
   "outputs": [
    {
     "name": "stdout",
     "output_type": "stream",
     "text": [
      "Occupation\n",
      "----------\n",
      "Occupation\n"
     ]
    }
   ],
   "source": [
    "# Obtem o primeor índice usando um atributo\n",
    "print(first_row.index[0])\n",
    "print(10 * \"-\")\n",
    "\n",
    "# Obtem o primeor índice usando um método\n",
    "print(first_row.keys()[0])"
   ]
  },
  {
   "cell_type": "markdown",
   "id": "dcc5baa6-63d5-4098-9214-455bd8d4d017",
   "metadata": {},
   "source": [
    "Uma series pode ser referenciado como um vetor e se parece com o ndarray em numpy. Logo vários dos mesmos métodos também funcionam em series"
   ]
  },
  {
   "cell_type": "code",
   "execution_count": 16,
   "id": "7b1abc50-5b83-4ac0-9189-c970da4065e3",
   "metadata": {},
   "outputs": [
    {
     "name": "stdout",
     "output_type": "stream",
     "text": [
      "Rosaline Franklin    37\n",
      "William Gosset       61\n",
      "Name: Age, dtype: int64\n"
     ]
    }
   ],
   "source": [
    "# Obter a coluna \"Age\"\n",
    "ages = scientists[\"Age\"]\n",
    "print(ages)"
   ]
  },
  {
   "cell_type": "markdown",
   "id": "2efcf620-6d38-4ab1-bd63-5b4ffc15d8b1",
   "metadata": {},
   "source": [
    "Quando temos vetores de números a operações matemáticas que podemos executar, como média (mean), mínimo (min), máximo (max), entre outras."
   ]
  },
  {
   "cell_type": "code",
   "execution_count": 17,
   "id": "7967dc27-4ba3-4cc2-8cf3-1ff38d2e7bd1",
   "metadata": {},
   "outputs": [
    {
     "name": "stdout",
     "output_type": "stream",
     "text": [
      "Médias das idades: 49.0\n",
      "\n",
      "Idade mínima encontrada: 37\n",
      "\n",
      "Idade máxima encontrada: 61\n",
      "\n",
      "Desvio padrão das idades: 16.97056274847714\n",
      "\n"
     ]
    }
   ],
   "source": [
    "# Médias das idades\n",
    "print(f\"Médias das idades: {ages.mean()}\\n\")\n",
    "\n",
    "# Idade mínima encontrada\n",
    "print(f\"Idade mínima encontrada: {ages.min()}\\n\")\n",
    "\n",
    "# Idade máxima encontrada\n",
    "print(f\"Idade máxima encontrada: {ages.max()}\\n\")\n",
    "\n",
    "# Desvio padrão das idades\n",
    "print(f\"Desvio padrão das idades: {ages.std()}\\n\")"
   ]
  },
  {
   "cell_type": "markdown",
   "id": "ccfaf2ef-3e9f-43ae-8f1a-02b7bf06fb62",
   "metadata": {},
   "source": [
    "Raramento conseguimos ver todos os índice ou registros com exatidão, logo usa-se operações para se trabalhar com eles. Para isso vamos utilizar um conjunto maior de dados para explorar esse processo."
   ]
  },
  {
   "cell_type": "code",
   "execution_count": 18,
   "id": "e3eec6e6-e4eb-4b52-b61b-80260560a8bc",
   "metadata": {},
   "outputs": [],
   "source": [
    "# Carregando dados do dataframe scientists \n",
    "path = \"C:\\\\Users\\\\Mateus\\\\Documents\\\\MateusYamaguti\\\\TUTORIAL-Analise-de-dados-com-python-e-pandas\\\\data\\\\scientists.csv\"\n",
    "scientists = pd.read_csv(path)"
   ]
  },
  {
   "cell_type": "code",
   "execution_count": 19,
   "id": "b26b1261-8544-4521-b6a9-5b5d7ed24d6d",
   "metadata": {},
   "outputs": [
    {
     "data": {
      "text/html": [
       "<div>\n",
       "<style scoped>\n",
       "    .dataframe tbody tr th:only-of-type {\n",
       "        vertical-align: middle;\n",
       "    }\n",
       "\n",
       "    .dataframe tbody tr th {\n",
       "        vertical-align: top;\n",
       "    }\n",
       "\n",
       "    .dataframe thead th {\n",
       "        text-align: right;\n",
       "    }\n",
       "</style>\n",
       "<table border=\"1\" class=\"dataframe\">\n",
       "  <thead>\n",
       "    <tr style=\"text-align: right;\">\n",
       "      <th></th>\n",
       "      <th>Name</th>\n",
       "      <th>Born</th>\n",
       "      <th>Died</th>\n",
       "      <th>Age</th>\n",
       "      <th>Occupation</th>\n",
       "    </tr>\n",
       "  </thead>\n",
       "  <tbody>\n",
       "    <tr>\n",
       "      <th>0</th>\n",
       "      <td>Rosaline Franklin</td>\n",
       "      <td>1920-07-25</td>\n",
       "      <td>1958-04-16</td>\n",
       "      <td>37</td>\n",
       "      <td>Chemist</td>\n",
       "    </tr>\n",
       "    <tr>\n",
       "      <th>1</th>\n",
       "      <td>William Gosset</td>\n",
       "      <td>1876-06-13</td>\n",
       "      <td>1937-10-16</td>\n",
       "      <td>61</td>\n",
       "      <td>Statistician</td>\n",
       "    </tr>\n",
       "    <tr>\n",
       "      <th>2</th>\n",
       "      <td>Florence Nightingale</td>\n",
       "      <td>1820-05-12</td>\n",
       "      <td>1910-08-13</td>\n",
       "      <td>90</td>\n",
       "      <td>Nurse</td>\n",
       "    </tr>\n",
       "    <tr>\n",
       "      <th>3</th>\n",
       "      <td>Marie Curie</td>\n",
       "      <td>1867-11-07</td>\n",
       "      <td>1934-07-04</td>\n",
       "      <td>66</td>\n",
       "      <td>Chemist</td>\n",
       "    </tr>\n",
       "    <tr>\n",
       "      <th>4</th>\n",
       "      <td>Rachel Carson</td>\n",
       "      <td>1907-05-27</td>\n",
       "      <td>1964-04-14</td>\n",
       "      <td>56</td>\n",
       "      <td>Biologist</td>\n",
       "    </tr>\n",
       "  </tbody>\n",
       "</table>\n",
       "</div>"
      ],
      "text/plain": [
       "                   Name        Born        Died  Age    Occupation\n",
       "0     Rosaline Franklin  1920-07-25  1958-04-16   37       Chemist\n",
       "1        William Gosset  1876-06-13  1937-10-16   61  Statistician\n",
       "2  Florence Nightingale  1820-05-12  1910-08-13   90         Nurse\n",
       "3           Marie Curie  1867-11-07  1934-07-04   66       Chemist\n",
       "4         Rachel Carson  1907-05-27  1964-04-14   56     Biologist"
      ]
     },
     "execution_count": 19,
     "metadata": {},
     "output_type": "execute_result"
    }
   ],
   "source": [
    "scientists.head()"
   ]
  },
  {
   "cell_type": "markdown",
   "id": "d27d739d-90cd-436b-8c76-4afd326746e6",
   "metadata": {},
   "source": [
    "Podemos utilizar o método describe para realizar diversas estatistica sobre a coluna Age"
   ]
  },
  {
   "cell_type": "code",
   "execution_count": 20,
   "id": "ff7d9737-1d70-4280-95ac-c0f95f531058",
   "metadata": {},
   "outputs": [
    {
     "name": "stdout",
     "output_type": "stream",
     "text": [
      "count     8.000000\n",
      "mean     59.125000\n",
      "std      18.325918\n",
      "min      37.000000\n",
      "25%      44.000000\n",
      "50%      58.500000\n",
      "75%      68.750000\n",
      "max      90.000000\n",
      "Name: Age, dtype: float64\n"
     ]
    }
   ],
   "source": [
    "# Criar variável para receber serie Age\n",
    "ages = scientists[\"Age\"]\n",
    "# print(ages)\n",
    "\n",
    "# Obter estatísticas básicas sobre Age\n",
    "print(ages.describe())"
   ]
  },
  {
   "cell_type": "code",
   "execution_count": 21,
   "id": "c298372a-e9f8-4bdf-b564-4b67557f6c08",
   "metadata": {},
   "outputs": [
    {
     "name": "stdout",
     "output_type": "stream",
     "text": [
      "59.125\n"
     ]
    }
   ],
   "source": [
    "# Médias de todas as idades\n",
    "print(ages.mean())"
   ]
  },
  {
   "cell_type": "markdown",
   "id": "4f01d81b-9875-42e3-9c12-d4d76c78de78",
   "metadata": {},
   "source": [
    "Podemos obter subconjuntos das series a partir de operacações relacionais, como por exemplo buscar as idades que estão acima da média"
   ]
  },
  {
   "cell_type": "code",
   "execution_count": 22,
   "id": "605b1cdc-1679-4026-8f58-58ac4a175298",
   "metadata": {},
   "outputs": [
    {
     "name": "stdout",
     "output_type": "stream",
     "text": [
      "1    61\n",
      "2    90\n",
      "3    66\n",
      "7    77\n",
      "Name: Age, dtype: int64\n"
     ]
    }
   ],
   "source": [
    "print(ages[ages > ages.mean()])"
   ]
  },
  {
   "cell_type": "markdown",
   "id": "5698ce49-59ee-4d98-a4df-a64c47696f1e",
   "metadata": {},
   "source": [
    "### Broadcasting\n",
    "\n",
    "Capacidade de operações matemáticas serem realizadas entre arrays de diferentes formas (tamanhos) de maneira eficiente, sem a necessidade de criar cópias dos dados. Isso significa que quano temos um array com vários elementos e iremos operacionalizar com outro array, ele irão interagir de forma que os elementos operem entre si"
   ]
  },
  {
   "cell_type": "code",
   "execution_count": 23,
   "id": "2e897881-9143-4a68-b90d-b1407ea8d5ee",
   "metadata": {},
   "outputs": [
    {
     "name": "stdout",
     "output_type": "stream",
     "text": [
      "0    1369\n",
      "1    3721\n",
      "2    8100\n",
      "3    4356\n",
      "4    3136\n",
      "5    2025\n",
      "6    1681\n",
      "7    5929\n",
      "Name: Age, dtype: int64\n"
     ]
    }
   ],
   "source": [
    "# Vetor com mesmo tamanho\n",
    "print(ages * ages)"
   ]
  },
  {
   "cell_type": "code",
   "execution_count": 24,
   "id": "b77256d1-4565-49f4-8260-6de34bf029a7",
   "metadata": {},
   "outputs": [
    {
     "name": "stdout",
     "output_type": "stream",
     "text": [
      "0     47\n",
      "1     71\n",
      "2    100\n",
      "3     76\n",
      "4     66\n",
      "5     55\n",
      "6     51\n",
      "7     87\n",
      "Name: Age, dtype: int64\n"
     ]
    }
   ],
   "source": [
    "# Vetores com inteiro (escalares)\n",
    "print(ages + 10)"
   ]
  },
  {
   "cell_type": "code",
   "execution_count": 25,
   "id": "f3ea1e39-6d32-47a7-8a76-56685c14ebf0",
   "metadata": {},
   "outputs": [
    {
     "name": "stdout",
     "output_type": "stream",
     "text": [
      "0     38.0\n",
      "1    161.0\n",
      "2      NaN\n",
      "3      NaN\n",
      "4      NaN\n",
      "5      NaN\n",
      "6      NaN\n",
      "7      NaN\n",
      "dtype: float64\n"
     ]
    }
   ],
   "source": [
    "# Vetores com tamanhos diferente\n",
    "print(ages + pd.Series([1, 100]))"
   ]
  },
  {
   "cell_type": "markdown",
   "id": "82b218cf-4573-4183-b18c-6cc694806e84",
   "metadata": {},
   "source": [
    "Veja que como só temos dois valores de idade, os demais valores a serem somados a serie não existem, por conta disso aparece o NaN"
   ]
  },
  {
   "cell_type": "markdown",
   "id": "88276fa7-e80f-406c-90ca-f9be9b6f57cf",
   "metadata": {},
   "source": [
    "Outro ponto interessante que ocorre no pandas é o alinhamento dos dados, que sempre se alinhão de acordo com os rótulos dos índices"
   ]
  },
  {
   "cell_type": "code",
   "execution_count": 26,
   "id": "85e290ed-11b0-46f5-bc3c-ab4490095d62",
   "metadata": {},
   "outputs": [
    {
     "name": "stdout",
     "output_type": "stream",
     "text": [
      "0    37\n",
      "1    61\n",
      "2    90\n",
      "3    66\n",
      "4    56\n",
      "5    45\n",
      "6    41\n",
      "7    77\n",
      "Name: Age, dtype: int64\n"
     ]
    }
   ],
   "source": [
    "# ages conforme aparecem no dados\n",
    "print(ages)"
   ]
  },
  {
   "cell_type": "code",
   "execution_count": 27,
   "id": "2e03f469-e0b0-49f6-a434-9d3bd437c64f",
   "metadata": {},
   "outputs": [
    {
     "name": "stdout",
     "output_type": "stream",
     "text": [
      "7    77\n",
      "6    41\n",
      "5    45\n",
      "4    56\n",
      "3    66\n",
      "2    90\n",
      "1    61\n",
      "0    37\n",
      "Name: Age, dtype: int64\n"
     ]
    }
   ],
   "source": [
    "# Ordem contrária das idades\n",
    "rev_ages = ages.sort_index(ascending=False)\n",
    "print(rev_ages)"
   ]
  },
  {
   "cell_type": "markdown",
   "id": "0866221a-b950-4237-8d67-79181ce6d00b",
   "metadata": {},
   "source": [
    "Ponto que importante é que se realizarmos operações com ages e rev_ages, os vetores serão realinhados antes de somar."
   ]
  },
  {
   "cell_type": "code",
   "execution_count": 28,
   "id": "2f204307-b908-4066-ae5c-8fec800b45c5",
   "metadata": {},
   "outputs": [
    {
     "name": "stdout",
     "output_type": "stream",
     "text": [
      "ages * rev_ages\n",
      "0    1369\n",
      "1    3721\n",
      "2    8100\n",
      "3    4356\n",
      "4    3136\n",
      "5    2025\n",
      "6    1681\n",
      "7    5929\n",
      "Name: Age, dtype: int64\n",
      "------------------------------\n",
      "0    1369\n",
      "1    3721\n",
      "2    8100\n",
      "3    4356\n",
      "4    3136\n",
      "5    2025\n",
      "6    1681\n",
      "7    5929\n",
      "Name: Age, dtype: int64\n",
      "ages * ages\n"
     ]
    }
   ],
   "source": [
    "print(\"ages * rev_ages\")\n",
    "print(ages * rev_ages)\n",
    "\n",
    "print(30 * \"-\")\n",
    "\n",
    "print(ages * ages)\n",
    "print(\"ages * ages\")"
   ]
  },
  {
   "cell_type": "markdown",
   "id": "26d0085b-487f-4941-9b02-2a2889817e74",
   "metadata": {},
   "source": [
    "### DataFrame\n",
    "\n",
    "DataFrame é o objeto mais comum no pandas, podemos pensar nele como planilha. Além disso, muitos dos recursos das Series também funcionam no DataFrame.<br>\n",
    "Também podemos utilizar um subconjunto dos booleano no DataFrame"
   ]
  },
  {
   "cell_type": "code",
   "execution_count": 29,
   "id": "959ef071-7fb5-4b59-893a-f2b98550839c",
   "metadata": {},
   "outputs": [
    {
     "name": "stdout",
     "output_type": "stream",
     "text": [
      "                   Name        Born        Died  Age     Occupation\n",
      "1        William Gosset  1876-06-13  1937-10-16   61   Statistician\n",
      "2  Florence Nightingale  1820-05-12  1910-08-13   90          Nurse\n",
      "3           Marie Curie  1867-11-07  1934-07-04   66        Chemist\n",
      "7          Johann Gauss  1777-04-30  1855-02-23   77  Mathematician\n"
     ]
    }
   ],
   "source": [
    "print(scientists[scientists[\"Age\"] > scientists[\"Age\"].mean()])"
   ]
  },
  {
   "cell_type": "markdown",
   "id": "66f2144b-11e1-4bcd-863f-0766184c5210",
   "metadata": {},
   "source": [
    "Ou seja, buscarmos dentro DataFrame scientists completo, pelo atributo Age quais tinham idade maior que a média, e assim, retornamos todo DataFrame.<br>\n",
    "\n",
    "Além disso, podemo passar um vetor de bools para o DataFrame e ele retornará apenas as linhas encontradas com o máximo do tamanho do vetor de booleanos"
   ]
  },
  {
   "cell_type": "code",
   "execution_count": 30,
   "id": "244518b5-c477-45c8-a072-57f79b1f9cb3",
   "metadata": {},
   "outputs": [
    {
     "name": "stdout",
     "output_type": "stream",
     "text": [
      "                Name        Born        Died  Age          Occupation\n",
      "0  Rosaline Franklin  1920-07-25  1958-04-16   37             Chemist\n",
      "1     William Gosset  1876-06-13  1937-10-16   61        Statistician\n",
      "3        Marie Curie  1867-11-07  1934-07-04   66             Chemist\n",
      "5          John Snow  1813-03-15  1858-06-16   45           Physician\n",
      "6        Alan Turing  1912-06-23  1954-06-07   41  Computer Scientist\n",
      "7       Johann Gauss  1777-04-30  1855-02-23   77       Mathematician\n"
     ]
    }
   ],
   "source": [
    "# Vetor com 4 boleanos\n",
    "# Retorna 3 linha (True ou False que distingue a quantidade de linhas)\n",
    "print(scientists.loc[[True, True, False, True, False, True, True, True]])"
   ]
  },
  {
   "cell_type": "markdown",
   "id": "62cba1fa-2435-44e5-9e60-b0a7699d5a3a",
   "metadata": {},
   "source": [
    "### Operações são alinhadas e vetorizadas automaticamente (BROADCASTING)\n",
    "\n",
    "Broadcasting é um recurso muito utilizado em numpy para tratar array, como series e dataframes são tipos de array, podemos utiliza-lo"
   ]
  },
  {
   "cell_type": "code",
   "execution_count": 31,
   "id": "0cca1ca7-a30e-4198-afa8-d5d371feba39",
   "metadata": {},
   "outputs": [
    {
     "name": "stdout",
     "output_type": "stream",
     "text": [
      "                   Name        Born        Died  Age    Occupation\n",
      "0     Rosaline Franklin  1920-07-25  1958-04-16   37       Chemist\n",
      "1        William Gosset  1876-06-13  1937-10-16   61  Statistician\n",
      "2  Florence Nightingale  1820-05-12  1910-08-13   90         Nurse\n",
      "3           Marie Curie  1867-11-07  1934-07-04   66       Chemist \n",
      "\n",
      "            Name        Born        Died  Age          Occupation\n",
      "4  Rachel Carson  1907-05-27  1964-04-14   56           Biologist\n",
      "5      John Snow  1813-03-15  1858-06-16   45           Physician\n",
      "6    Alan Turing  1912-06-23  1954-06-07   41  Computer Scientist\n",
      "7   Johann Gauss  1777-04-30  1855-02-23   77       Mathematician\n"
     ]
    }
   ],
   "source": [
    "first_half = scientists[:4]\n",
    "second_half= scientists[4:]\n",
    "print(first_half, \"\\n\")\n",
    "print(second_half)"
   ]
  },
  {
   "cell_type": "code",
   "execution_count": 32,
   "id": "da01402b-efb6-4235-84fe-e5390278463d",
   "metadata": {},
   "outputs": [
    {
     "name": "stdout",
     "output_type": "stream",
     "text": [
      "                                       Name                  Born  \\\n",
      "0        Rosaline FranklinRosaline Franklin  1920-07-251920-07-25   \n",
      "1              William GossetWilliam Gosset  1876-06-131876-06-13   \n",
      "2  Florence NightingaleFlorence Nightingale  1820-05-121820-05-12   \n",
      "3                    Marie CurieMarie Curie  1867-11-071867-11-07   \n",
      "4                Rachel CarsonRachel Carson  1907-05-271907-05-27   \n",
      "5                        John SnowJohn Snow  1813-03-151813-03-15   \n",
      "6                    Alan TuringAlan Turing  1912-06-231912-06-23   \n",
      "7                  Johann GaussJohann Gauss  1777-04-301777-04-30   \n",
      "\n",
      "                   Died  Age                            Occupation  \n",
      "0  1958-04-161958-04-16   74                        ChemistChemist  \n",
      "1  1937-10-161937-10-16  122              StatisticianStatistician  \n",
      "2  1910-08-131910-08-13  180                            NurseNurse  \n",
      "3  1934-07-041934-07-04  132                        ChemistChemist  \n",
      "4  1964-04-141964-04-14  112                    BiologistBiologist  \n",
      "5  1858-06-161858-06-16   90                    PhysicianPhysician  \n",
      "6  1954-06-071954-06-07   82  Computer ScientistComputer Scientist  \n",
      "7  1855-02-231855-02-23  154            MathematicianMathematician  \n"
     ]
    }
   ],
   "source": [
    "# Multiplica dataframe por um escalar\n",
    "print(scientists * 2)"
   ]
  },
  {
   "cell_type": "markdown",
   "id": "b94a8bfe-6e00-403b-beac-cac6dc3f22bc",
   "metadata": {},
   "source": [
    "### Fazendo alterações em Series e em Dataframes"
   ]
  },
  {
   "cell_type": "code",
   "execution_count": 33,
   "id": "b5637a8c-926e-4926-beb4-9982d9e5dc94",
   "metadata": {},
   "outputs": [
    {
     "name": "stdout",
     "output_type": "stream",
     "text": [
      "object\n",
      "object\n"
     ]
    }
   ],
   "source": [
    "# Tipo de coluna\n",
    "print(scientists[\"Born\"].dtype)\n",
    "print(scientists[\"Died\"].dtype)"
   ]
  },
  {
   "cell_type": "markdown",
   "id": "f8025205-006a-4e70-ba00-cdd1b2333e09",
   "metadata": {},
   "source": [
    "Podemos alterar alguns formato de tipo nas colunas (series) do dataframe, por exemplo, como **Born** segue o padrão de data AAAA-MM-DD, podemos utiliza-lo para alterar o seu tipo para datetime"
   ]
  },
  {
   "cell_type": "code",
   "execution_count": 34,
   "id": "d251fc7a-0894-4507-967f-930726bc24d6",
   "metadata": {},
   "outputs": [
    {
     "name": "stdout",
     "output_type": "stream",
     "text": [
      "0   1920-07-25\n",
      "1   1876-06-13\n",
      "2   1820-05-12\n",
      "3   1867-11-07\n",
      "4   1907-05-27\n",
      "5   1813-03-15\n",
      "6   1912-06-23\n",
      "7   1777-04-30\n",
      "Name: Born, dtype: datetime64[ns]\n",
      "------------------------------\n",
      "0   1958-04-16\n",
      "1   1937-10-16\n",
      "2   1910-08-13\n",
      "3   1934-07-04\n",
      "4   1964-04-14\n",
      "5   1858-06-16\n",
      "6   1954-06-07\n",
      "7   1855-02-23\n",
      "Name: Died, dtype: datetime64[ns]\n"
     ]
    }
   ],
   "source": [
    "# Formata a coluna Born para datetime\n",
    "born_datetime = pd.to_datetime(scientists[\"Born\"], format = \"%Y-%m-%d\")\n",
    "\n",
    "print(born_datetime)\n",
    "print(30*\"-\")\n",
    "\n",
    "# Formata a coluna Died como datetime\n",
    "died_datetime = pd.to_datetime(scientists[\"Died\"], format = \"%Y-%m-%d\")\n",
    "print(died_datetime)"
   ]
  },
  {
   "cell_type": "code",
   "execution_count": 35,
   "id": "c05424e8-3a7f-4ece-8a41-86ddff69432e",
   "metadata": {},
   "outputs": [
    {
     "name": "stdout",
     "output_type": "stream",
     "text": [
      "                   Name        Born        Died  Age    Occupation    born_dt  \\\n",
      "0     Rosaline Franklin  1920-07-25  1958-04-16   37       Chemist 1920-07-25   \n",
      "1        William Gosset  1876-06-13  1937-10-16   61  Statistician 1876-06-13   \n",
      "2  Florence Nightingale  1820-05-12  1910-08-13   90         Nurse 1820-05-12   \n",
      "3           Marie Curie  1867-11-07  1934-07-04   66       Chemist 1867-11-07   \n",
      "4         Rachel Carson  1907-05-27  1964-04-14   56     Biologist 1907-05-27   \n",
      "\n",
      "     died_dt  \n",
      "0 1958-04-16  \n",
      "1 1937-10-16  \n",
      "2 1910-08-13  \n",
      "3 1934-07-04  \n",
      "4 1964-04-14  \n",
      "------------------------------\n",
      "(8, 7)\n"
     ]
    }
   ],
   "source": [
    "# Exemplo de atribuição múltipla em python\n",
    "scientists[\"born_dt\"], scientists[\"died_dt\"] = (born_datetime, died_datetime)\n",
    "print(scientists.head())\n",
    "print(30 * \"-\")\n",
    "print(scientists.shape)"
   ]
  },
  {
   "cell_type": "markdown",
   "id": "c6512933-df6b-4df0-a01f-03f8643e0035",
   "metadata": {},
   "source": [
    "Podemos alterar o valor de uma coluna"
   ]
  },
  {
   "cell_type": "code",
   "execution_count": 36,
   "id": "6f4f4ae6-692a-4154-a53b-2a2609b72517",
   "metadata": {},
   "outputs": [
    {
     "name": "stdout",
     "output_type": "stream",
     "text": [
      "0    37\n",
      "1    61\n",
      "2    90\n",
      "3    66\n",
      "4    56\n",
      "5    45\n",
      "6    41\n",
      "7    77\n",
      "Name: Age, dtype: int64\n"
     ]
    }
   ],
   "source": [
    "# Valor original da coluna Age\n",
    "print(scientists[\"Age\"])"
   ]
  },
  {
   "cell_type": "code",
   "execution_count": 37,
   "id": "8bdffe60-d9fc-4d02-8502-58b2cfcc3f9b",
   "metadata": {},
   "outputs": [
    {
     "name": "stderr",
     "output_type": "stream",
     "text": [
      "C:\\Users\\Mateus\\anaconda3\\envs\\book\\lib\\random.py:394: SettingWithCopyWarning: \n",
      "A value is trying to be set on a copy of a slice from a DataFrame\n",
      "\n",
      "See the caveats in the documentation: https://pandas.pydata.org/pandas-docs/stable/user_guide/indexing.html#returning-a-view-versus-a-copy\n",
      "  x[i], x[j] = x[j], x[i]\n",
      "C:\\Users\\Mateus\\anaconda3\\envs\\book\\lib\\random.py:394: SettingWithCopyWarning: \n",
      "A value is trying to be set on a copy of a slice from a DataFrame\n",
      "\n",
      "See the caveats in the documentation: https://pandas.pydata.org/pandas-docs/stable/user_guide/indexing.html#returning-a-view-versus-a-copy\n",
      "  x[i], x[j] = x[j], x[i]\n",
      "C:\\Users\\Mateus\\anaconda3\\envs\\book\\lib\\random.py:394: SettingWithCopyWarning: \n",
      "A value is trying to be set on a copy of a slice from a DataFrame\n",
      "\n",
      "See the caveats in the documentation: https://pandas.pydata.org/pandas-docs/stable/user_guide/indexing.html#returning-a-view-versus-a-copy\n",
      "  x[i], x[j] = x[j], x[i]\n",
      "C:\\Users\\Mateus\\anaconda3\\envs\\book\\lib\\random.py:394: SettingWithCopyWarning: \n",
      "A value is trying to be set on a copy of a slice from a DataFrame\n",
      "\n",
      "See the caveats in the documentation: https://pandas.pydata.org/pandas-docs/stable/user_guide/indexing.html#returning-a-view-versus-a-copy\n",
      "  x[i], x[j] = x[j], x[i]\n",
      "C:\\Users\\Mateus\\anaconda3\\envs\\book\\lib\\random.py:394: SettingWithCopyWarning: \n",
      "A value is trying to be set on a copy of a slice from a DataFrame\n",
      "\n",
      "See the caveats in the documentation: https://pandas.pydata.org/pandas-docs/stable/user_guide/indexing.html#returning-a-view-versus-a-copy\n",
      "  x[i], x[j] = x[j], x[i]\n",
      "C:\\Users\\Mateus\\anaconda3\\envs\\book\\lib\\random.py:394: SettingWithCopyWarning: \n",
      "A value is trying to be set on a copy of a slice from a DataFrame\n",
      "\n",
      "See the caveats in the documentation: https://pandas.pydata.org/pandas-docs/stable/user_guide/indexing.html#returning-a-view-versus-a-copy\n",
      "  x[i], x[j] = x[j], x[i]\n",
      "C:\\Users\\Mateus\\anaconda3\\envs\\book\\lib\\random.py:394: SettingWithCopyWarning: \n",
      "A value is trying to be set on a copy of a slice from a DataFrame\n",
      "\n",
      "See the caveats in the documentation: https://pandas.pydata.org/pandas-docs/stable/user_guide/indexing.html#returning-a-view-versus-a-copy\n",
      "  x[i], x[j] = x[j], x[i]\n",
      "C:\\Users\\Mateus\\anaconda3\\envs\\book\\lib\\random.py:394: SettingWithCopyWarning: \n",
      "A value is trying to be set on a copy of a slice from a DataFrame\n",
      "\n",
      "See the caveats in the documentation: https://pandas.pydata.org/pandas-docs/stable/user_guide/indexing.html#returning-a-view-versus-a-copy\n",
      "  x[i], x[j] = x[j], x[i]\n",
      "C:\\Users\\Mateus\\anaconda3\\envs\\book\\lib\\random.py:394: SettingWithCopyWarning: \n",
      "A value is trying to be set on a copy of a slice from a DataFrame\n",
      "\n",
      "See the caveats in the documentation: https://pandas.pydata.org/pandas-docs/stable/user_guide/indexing.html#returning-a-view-versus-a-copy\n",
      "  x[i], x[j] = x[j], x[i]\n",
      "C:\\Users\\Mateus\\anaconda3\\envs\\book\\lib\\random.py:394: SettingWithCopyWarning: \n",
      "A value is trying to be set on a copy of a slice from a DataFrame\n",
      "\n",
      "See the caveats in the documentation: https://pandas.pydata.org/pandas-docs/stable/user_guide/indexing.html#returning-a-view-versus-a-copy\n",
      "  x[i], x[j] = x[j], x[i]\n",
      "C:\\Users\\Mateus\\anaconda3\\envs\\book\\lib\\random.py:394: SettingWithCopyWarning: \n",
      "A value is trying to be set on a copy of a slice from a DataFrame\n",
      "\n",
      "See the caveats in the documentation: https://pandas.pydata.org/pandas-docs/stable/user_guide/indexing.html#returning-a-view-versus-a-copy\n",
      "  x[i], x[j] = x[j], x[i]\n",
      "C:\\Users\\Mateus\\anaconda3\\envs\\book\\lib\\random.py:394: SettingWithCopyWarning: \n",
      "A value is trying to be set on a copy of a slice from a DataFrame\n",
      "\n",
      "See the caveats in the documentation: https://pandas.pydata.org/pandas-docs/stable/user_guide/indexing.html#returning-a-view-versus-a-copy\n",
      "  x[i], x[j] = x[j], x[i]\n",
      "C:\\Users\\Mateus\\anaconda3\\envs\\book\\lib\\random.py:394: SettingWithCopyWarning: \n",
      "A value is trying to be set on a copy of a slice from a DataFrame\n",
      "\n",
      "See the caveats in the documentation: https://pandas.pydata.org/pandas-docs/stable/user_guide/indexing.html#returning-a-view-versus-a-copy\n",
      "  x[i], x[j] = x[j], x[i]\n",
      "C:\\Users\\Mateus\\anaconda3\\envs\\book\\lib\\random.py:394: SettingWithCopyWarning: \n",
      "A value is trying to be set on a copy of a slice from a DataFrame\n",
      "\n",
      "See the caveats in the documentation: https://pandas.pydata.org/pandas-docs/stable/user_guide/indexing.html#returning-a-view-versus-a-copy\n",
      "  x[i], x[j] = x[j], x[i]\n"
     ]
    }
   ],
   "source": [
    "import random\n",
    "\n",
    "# Definir semente para manter o valor da aleatoriedade\n",
    "random.seed(42)\n",
    "random.shuffle(scientists[\"Age\"])"
   ]
  },
  {
   "cell_type": "code",
   "execution_count": 38,
   "id": "34815a27-ffe6-4760-937d-44e27d2b7de6",
   "metadata": {},
   "outputs": [
    {
     "name": "stdout",
     "output_type": "stream",
     "text": [
      "0    66\n",
      "1    56\n",
      "2    41\n",
      "3    77\n",
      "4    90\n",
      "5    45\n",
      "6    37\n",
      "7    61\n",
      "Name: Age, dtype: int64\n"
     ]
    }
   ],
   "source": [
    "print(scientists[\"Age\"])"
   ]
  },
  {
   "cell_type": "markdown",
   "id": "4635a879-1a77-4f5d-891f-6ee70b808bcd",
   "metadata": {},
   "source": [
    "o aviso ocorre pois a forma apropriada de usar essa instrução é com loc. Podemos também utilizar o processo abaixo."
   ]
  },
  {
   "cell_type": "code",
   "execution_count": 39,
   "id": "bc33cfd0-ece4-403b-937f-bee07f48d52b",
   "metadata": {},
   "outputs": [
    {
     "name": "stdout",
     "output_type": "stream",
     "text": [
      "0    61\n",
      "1    45\n",
      "2    37\n",
      "3    90\n",
      "4    56\n",
      "5    66\n",
      "6    77\n",
      "7    41\n",
      "Name: Age, dtype: int64\n"
     ]
    }
   ],
   "source": [
    "# random_state = Deixar a aleatoriedade menos aleatória\n",
    "scientists[\"Age\"] = scientists[\"Age\"].\\\n",
    "    sample(len(scientists[\"Age\"]), random_state = 24).\\\n",
    "    reset_index(drop = True) # Valore permanecem aleatórios\n",
    "\n",
    "print(scientists[\"Age\"])"
   ]
  },
  {
   "cell_type": "markdown",
   "id": "d9b25020-96c3-4e5e-9531-9f3a0dfbf546",
   "metadata": {},
   "source": [
    "Subtrair datas no das números de dias, os quais podemos trabalhar de alguma forma. Então podemos subtrair died de born e obter a quantidade de dias vivido pelo cientista"
   ]
  },
  {
   "cell_type": "code",
   "execution_count": 40,
   "id": "23ad5d76-ff58-470b-8817-72e74fa88ca7",
   "metadata": {},
   "outputs": [
    {
     "name": "stdout",
     "output_type": "stream",
     "text": [
      "                   Name        Born        Died  Age          Occupation  \\\n",
      "0     Rosaline Franklin  1920-07-25  1958-04-16   61             Chemist   \n",
      "1        William Gosset  1876-06-13  1937-10-16   45        Statistician   \n",
      "2  Florence Nightingale  1820-05-12  1910-08-13   37               Nurse   \n",
      "3           Marie Curie  1867-11-07  1934-07-04   90             Chemist   \n",
      "4         Rachel Carson  1907-05-27  1964-04-14   56           Biologist   \n",
      "5             John Snow  1813-03-15  1858-06-16   66           Physician   \n",
      "6           Alan Turing  1912-06-23  1954-06-07   77  Computer Scientist   \n",
      "7          Johann Gauss  1777-04-30  1855-02-23   41       Mathematician   \n",
      "\n",
      "     born_dt    died_dt age_days_dt  \n",
      "0 1920-07-25 1958-04-16  13779 days  \n",
      "1 1876-06-13 1937-10-16  22404 days  \n",
      "2 1820-05-12 1910-08-13  32964 days  \n",
      "3 1867-11-07 1934-07-04  24345 days  \n",
      "4 1907-05-27 1964-04-14  20777 days  \n",
      "5 1813-03-15 1858-06-16  16529 days  \n",
      "6 1912-06-23 1954-06-07  15324 days  \n",
      "7 1777-04-30 1855-02-23  28422 days  \n"
     ]
    }
   ],
   "source": [
    "scientists[\"age_days_dt\"] = scientists[\"died_dt\"] - scientists[\"born_dt\"]\n",
    "print(scientists)"
   ]
  },
  {
   "cell_type": "markdown",
   "id": "07ef79a9-164a-4e60-87db-cb004f047454",
   "metadata": {},
   "source": [
    "Podemos converter também os valores para ano usando o método `astype()`"
   ]
  },
  {
   "cell_type": "code",
   "execution_count": 41,
   "id": "5f7f1406-9d3b-48fb-a0f2-430c93d70f00",
   "metadata": {},
   "outputs": [],
   "source": [
    "# scientists[\"age_days_dt\"] = scientists[\"age_days_dt\"].astype(\"timedelta64[Y]\")\n",
    "# print(scientists)\n",
    "\n",
    "# Aproximando um ano como 365 dias\n",
    "# scientists[\"age_years\"] = scientists[\"age_days_dt\"] / np.timedelta64(365, \"D\")\n",
    "# print(scientists)"
   ]
  },
  {
   "cell_type": "markdown",
   "id": "fd43d0c0-359c-4571-bc98-25e9e9757e9d",
   "metadata": {},
   "source": [
    "Podemos descartar valores ou colunas com o método drop de nosso dataframe"
   ]
  },
  {
   "cell_type": "code",
   "execution_count": 42,
   "id": "74f5f77b-ae34-46f9-8161-530a77705f9a",
   "metadata": {},
   "outputs": [
    {
     "name": "stdout",
     "output_type": "stream",
     "text": [
      "Index(['Name', 'Born', 'Died', 'Age', 'Occupation', 'born_dt', 'died_dt',\n",
      "       'age_days_dt'],\n",
      "      dtype='object')\n"
     ]
    }
   ],
   "source": [
    "# analisar quais são as colunas do nosso dataframe\n",
    "print(scientists.columns)"
   ]
  },
  {
   "cell_type": "code",
   "execution_count": 43,
   "id": "21703c4d-1b09-4e26-aac4-b496758b3433",
   "metadata": {},
   "outputs": [
    {
     "name": "stdout",
     "output_type": "stream",
     "text": [
      "Index(['Name', 'Born', 'Died', 'Occupation', 'born_dt', 'died_dt',\n",
      "       'age_days_dt'],\n",
      "      dtype='object')\n"
     ]
    }
   ],
   "source": [
    "# Descartar a coluna de idade (Age), especificar o algumento axis = 1 (axis = 1, pega todas as linhas de uma coluna)\n",
    "scientists_dropped = scientists.drop([\"Age\"], axis=1)\n",
    "\n",
    "# Conferir se a coluna foi descartada\n",
    "print(scientists_dropped.columns)"
   ]
  },
  {
   "cell_type": "markdown",
   "id": "1ed05cd5-e60c-4cad-a8e9-b15fb7328bbf",
   "metadata": {},
   "source": [
    "### Exportando e importanto dados\n",
    "Dados podem ser exportados em versões finais ou intermediarias, principalmente após passa por algum tratamento ou  limpeza.<br>\n",
    "Em Python, o **pickle** é o modo de serializar em formato binários os dados<br>\n",
    "No exemplo abaixo é criada a variável **path**, para armazenar o local que o diretorio do arquivo atual está sendo executado e portanto poder trabalhar com seu **parent** para armazenar os dados que estão sendo exportados. O nome \"2_capitulo\" poderia ser substituido por `__file__`<br>\n",
    "Como opção para encontrar o local do arquivo notebook, podemos utilizar:\n",
    "```python\n",
    "import os\n",
    "notebook_path = os.getcwd()\n",
    "print(notebook_path)\n",
    "```"
   ]
  },
  {
   "cell_type": "code",
   "execution_count": 44,
   "id": "f1781bb7-4ca9-446c-8b0d-0b311b1abd0f",
   "metadata": {},
   "outputs": [
    {
     "name": "stdout",
     "output_type": "stream",
     "text": [
      "C:\\Users\\Mateus\\Documents\\MateusYamaguti\\TUTORIAL-Analise-de-dados-com-python-e-pandas\\notebooks\\2_capitulo\n",
      "0       Rosaline Franklin\n",
      "1          William Gosset\n",
      "2    Florence Nightingale\n",
      "3             Marie Curie\n",
      "4           Rachel Carson\n",
      "5               John Snow\n",
      "6             Alan Turing\n",
      "7            Johann Gauss\n",
      "Name: Name, dtype: object\n"
     ]
    }
   ],
   "source": [
    "import os\n",
    "\n",
    "# Buscar caminho da pasta\n",
    "print(os.path.dirname(os.path.abspath(\"2_capitulo\")))\n",
    "path = os.path.dirname(os.path.abspath(\"2_capitulo\"))\n",
    "\n",
    "# Criar variavel para armazenar series do dataframe que será salvo\n",
    "names = scientists[\"Name\"]\n",
    "print(names)\n",
    "\n",
    "# Salvar em um determinado path\n",
    "nome_do_arquivo = \"scientists_names_series.pickle\"\n",
    "names.to_pickle(f\"{path}\\\\data_cap2\\\\{nome_do_arquivo}\")"
   ]
  },
  {
   "cell_type": "code",
   "execution_count": 51,
   "id": "ba4fea86-6e33-48ce-ac09-d1e183a0a267",
   "metadata": {},
   "outputs": [
    {
     "name": "stdout",
     "output_type": "stream",
     "text": [
      "0       Rosaline Franklin\n",
      "1          William Gosset\n",
      "2    Florence Nightingale\n",
      "3             Marie Curie\n",
      "4           Rachel Carson\n",
      "5               John Snow\n",
      "6             Alan Turing\n",
      "7            Johann Gauss\n",
      "Name: Name, dtype: object\n"
     ]
    }
   ],
   "source": [
    "# Para ler os ados pickle podemos utilizar a função pd.read_pickle\n",
    "scientists_name_from_pickle = pd.read_pickle(\n",
    "    f\"{path}\\\\data_cap2\\\\{nome_do_arquivo}\")\n",
    "\n",
    "print(scientists_name_from_pickle)"
   ]
  },
  {
   "cell_type": "code",
   "execution_count": 53,
   "id": "fe59dabb-320d-44de-98c9-fd2e63b77139",
   "metadata": {},
   "outputs": [
    {
     "name": "stdout",
     "output_type": "stream",
     "text": [
      "C:\\Users\\Mateus\\Documents\\MateusYamaguti\\TUTORIAL-Analise-de-dados-com-python-e-pandas\\notebooks\\2_capitulo\\data_cap2\\scientists_df.pickle\n"
     ]
    }
   ],
   "source": [
    "# Salvar o dataframe completo\n",
    "\n",
    "scientists.to_pickle(f\"{path}\\\\data_cap2\\\\scientists_df.pickle\")"
   ]
  },
  {
   "cell_type": "code",
   "execution_count": 55,
   "id": "65c0e8c2-196e-4605-a574-ac16cde62f1f",
   "metadata": {},
   "outputs": [
    {
     "name": "stdout",
     "output_type": "stream",
     "text": [
      "                   Name        Born        Died  Age          Occupation  \\\n",
      "0     Rosaline Franklin  1920-07-25  1958-04-16   61             Chemist   \n",
      "1        William Gosset  1876-06-13  1937-10-16   45        Statistician   \n",
      "2  Florence Nightingale  1820-05-12  1910-08-13   37               Nurse   \n",
      "3           Marie Curie  1867-11-07  1934-07-04   90             Chemist   \n",
      "4         Rachel Carson  1907-05-27  1964-04-14   56           Biologist   \n",
      "5             John Snow  1813-03-15  1858-06-16   66           Physician   \n",
      "6           Alan Turing  1912-06-23  1954-06-07   77  Computer Scientist   \n",
      "7          Johann Gauss  1777-04-30  1855-02-23   41       Mathematician   \n",
      "\n",
      "     born_dt    died_dt age_days_dt  \n",
      "0 1920-07-25 1958-04-16  13779 days  \n",
      "1 1876-06-13 1937-10-16  22404 days  \n",
      "2 1820-05-12 1910-08-13  32964 days  \n",
      "3 1867-11-07 1934-07-04  24345 days  \n",
      "4 1907-05-27 1964-04-14  20777 days  \n",
      "5 1813-03-15 1858-06-16  16529 days  \n",
      "6 1912-06-23 1954-06-07  15324 days  \n",
      "7 1777-04-30 1855-02-23  28422 days  \n"
     ]
    }
   ],
   "source": [
    "# Imprimir o dataframe scientists no formato pickle\n",
    "scientistis_from_pickle = pd.read_pickle(f\"{path}\\\\data_cap2\\\\scientists_df.pickle\")\n",
    "print(scientistis_from_pickle)"
   ]
  },
  {
   "cell_type": "markdown",
   "id": "f7939dfe-4569-43ca-8a0a-fd4d8d88a0c6",
   "metadata": {},
   "source": [
    "As mesmas operações feitas de importação, salvamento e importação podem ser feita com os arquivos CSV, os quais são mais populares"
   ]
  },
  {
   "cell_type": "code",
   "execution_count": 63,
   "id": "2dce9e0d-c1be-41ad-b8c5-a391fe1540af",
   "metadata": {},
   "outputs": [
    {
     "name": "stdout",
     "output_type": "stream",
     "text": [
      "  \\tName\\tBorn\\tDied\\tAge\\tOccupation\\tborn_dt\\tdied_dt\\tage_days_dt\n",
      "0  0\\tRosaline Franklin\\t1920-07-25\\t1958-04-16\\t...                \n",
      "1  1\\tWilliam Gosset\\t1876-06-13\\t1937-10-16\\t45\\...                \n",
      "2  2\\tFlorence Nightingale\\t1820-05-12\\t1910-08-1...                \n",
      "3  3\\tMarie Curie\\t1867-11-07\\t1934-07-04\\t90\\tCh...                \n",
      "4  4\\tRachel Carson\\t1907-05-27\\t1964-04-14\\t56\\t...                \n",
      "5  5\\tJohn Snow\\t1813-03-15\\t1858-06-16\\t66\\tPhys...                \n",
      "6  6\\tAlan Turing\\t1912-06-23\\t1954-06-07\\t77\\tCo...                \n",
      "7  7\\tJohann Gauss\\t1777-04-30\\t1855-02-23\\t41\\tM...                \n"
     ]
    }
   ],
   "source": [
    "# Salva um série em CSV\n",
    "names.to_csv(f\"{path}\\\\data_cap2\\\\scientists_names_series.csv\")\n",
    "\n",
    "# Salva um dataframe em um TSV, ou seja, salva um arquivo texto com separação por tabulação\n",
    "scientists.to_csv(f\"{path}\\\\data_cap2\\\\scientists_df.tsv\", sep=\"\\t\")\n",
    "\n",
    "print(pd.read_csv(f\"{path}\\\\data_cap2\\\\scientists_df.tsv\"), sep=\"\\t\")\n"
   ]
  },
  {
   "cell_type": "markdown",
   "id": "70693ce5-2707-4a65-b7d3-8aaed958d180",
   "metadata": {},
   "source": [
    "A primeira coluna geralmente é o index dos registro no banco de dados, porém, pode ser que por algum motivo você não deseje salva-lo, logo, podemos retira-lo no momento do salvamento com o parâmetro `index=False`."
   ]
  },
  {
   "cell_type": "code",
   "execution_count": 62,
   "id": "982df646-b9b8-4e28-bbbe-c948ab15d7d8",
   "metadata": {},
   "outputs": [
    {
     "name": "stdout",
     "output_type": "stream",
     "text": [
      "                   Name        Born        Died  Age          Occupation  \\\n",
      "0     Rosaline Franklin  1920-07-25  1958-04-16   61             Chemist   \n",
      "1        William Gosset  1876-06-13  1937-10-16   45        Statistician   \n",
      "2  Florence Nightingale  1820-05-12  1910-08-13   37               Nurse   \n",
      "3           Marie Curie  1867-11-07  1934-07-04   90             Chemist   \n",
      "4         Rachel Carson  1907-05-27  1964-04-14   56           Biologist   \n",
      "5             John Snow  1813-03-15  1858-06-16   66           Physician   \n",
      "6           Alan Turing  1912-06-23  1954-06-07   77  Computer Scientist   \n",
      "7          Johann Gauss  1777-04-30  1855-02-23   41       Mathematician   \n",
      "\n",
      "      born_dt     died_dt age_days_dt  \n",
      "0  1920-07-25  1958-04-16  13779 days  \n",
      "1  1876-06-13  1937-10-16  22404 days  \n",
      "2  1820-05-12  1910-08-13  32964 days  \n",
      "3  1867-11-07  1934-07-04  24345 days  \n",
      "4  1907-05-27  1964-04-14  20777 days  \n",
      "5  1813-03-15  1858-06-16  16529 days  \n",
      "6  1912-06-23  1954-06-07  15324 days  \n",
      "7  1777-04-30  1855-02-23  28422 days  \n"
     ]
    }
   ],
   "source": [
    "scientists.to_csv(f\"{path}\\\\data_cap2\\\\scientists_df_no_index.csv\", index=False)\n",
    "print(pd.read_csv(f\"{path}\\\\data_cap2\\\\scientists_df_no_index.csv\"))"
   ]
  },
  {
   "cell_type": "markdown",
   "id": "68014ea1-2a72-439f-bc84-3df376adc65f",
   "metadata": {},
   "source": [
    "Essa operações também poder ser feita em arquivos Excel, para isso, podemos pegar um series e converter para um dataframe no caso da series **names_df**. <br>\n",
    "Posteriormente podemos salva-la em aquivo xls. Para tal precisamos instalar algumas biblioteca de auxilio: **xlwt** e **openpyxl**."
   ]
  },
  {
   "cell_type": "code",
   "execution_count": null,
   "id": "e0116d27-05b7-47b2-bd1a-8c95eaecad0c",
   "metadata": {},
   "outputs": [],
   "source": [
    "# # Converter a series em um dataframe\n",
    "# # Antes de salvá-la  em um arquivo Excel\n",
    "# names_df = names.to_frame()\n",
    "\n",
    "# import xlwt # isso precisa ser instalado\n",
    "# names_df.to_excel(f\"{path}\\\\data_cap2\\\\scientists_names_series_df.xls\")\n",
    "\n",
    "# import openpyxl\n",
    "# # novo arquivo xlsx\n",
    "# names_df.to_excel(f\"{path}\\\\data_cap2\\\\scientists_names_series_df.xlsx\")"
   ]
  }
 ],
 "metadata": {
  "kernelspec": {
   "display_name": "Python 3 (ipykernel)",
   "language": "python",
   "name": "python3"
  },
  "language_info": {
   "codemirror_mode": {
    "name": "ipython",
    "version": 3
   },
   "file_extension": ".py",
   "mimetype": "text/x-python",
   "name": "python",
   "nbconvert_exporter": "python",
   "pygments_lexer": "ipython3",
   "version": "3.10.18"
  },
  "widgets": {
   "application/vnd.jupyter.widget-state+json": {
    "state": {},
    "version_major": 2,
    "version_minor": 0
   }
  }
 },
 "nbformat": 4,
 "nbformat_minor": 5
}
