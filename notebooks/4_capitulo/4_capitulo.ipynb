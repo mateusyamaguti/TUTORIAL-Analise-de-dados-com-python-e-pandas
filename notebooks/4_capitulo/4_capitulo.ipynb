{
 "cells": [
  {
   "cell_type": "markdown",
   "id": "fb4bcccc-669b-4f48-864a-e5c61a3e3f4b",
   "metadata": {},
   "source": [
    "# Manipulação de dados\n",
    "Objetivos:\n",
    "- Tidy data (dados organizados)\n",
    "- Concatenação de dados\n",
    "- Combinação (merge) de dados"
   ]
  },
  {
   "cell_type": "markdown",
   "id": "35fc18f5-c6b3-4901-9af5-157a7adbaf6b",
   "metadata": {},
   "source": [
    "### Concatenação\n",
    "É a junção de linhas ou colunas em seus dados. A concatenação é feita usando a função `concat` do Pandas<br>\n",
    "Iniciaremos com alguns conjuntos de dados de exemplo."
   ]
  },
  {
   "cell_type": "code",
   "execution_count": 1,
   "id": "8e0498f1-4c26-43ad-a3b2-84b1500240fe",
   "metadata": {},
   "outputs": [],
   "source": [
    "import pandas as pd\n",
    "\n",
    "# importantado dados\n",
    "path = \"C:\\\\Users\\\\Mateus\\\\Documents\\\\MateusYamaguti\\\\TUTORIAL-Analise-de-dados-com-python-e-pandas\\\\data\\\\\"\n",
    "df1 = pd.read_csv(f\"{path}\\\\concat_1.csv\")\n",
    "df2 = pd.read_csv(f\"{path}\\\\concat_2.csv\")\n",
    "df3 = pd.read_csv(f\"{path}\\\\concat_3.csv\")"
   ]
  },
  {
   "cell_type": "code",
   "execution_count": 2,
   "id": "261cf1c1-5056-4998-960e-8c59fe807653",
   "metadata": {},
   "outputs": [
    {
     "name": "stdout",
     "output_type": "stream",
     "text": [
      "    A   B   C   D\n",
      "0  a0  b0  c0  d0\n",
      "1  a1  b1  c1  d1\n",
      "2  a2  b2  c2  d2\n",
      "3  a3  b3  c3  d3 \n",
      "\n",
      "    A   B   C   D\n",
      "0  a4  b4  c4  d4\n",
      "1  a5  b5  c5  d5\n",
      "2  a6  b6  c6  d6\n",
      "3  a7  b7  c7  d7 \n",
      "\n",
      "     A    B    C    D\n",
      "0   a8   b8   c8   d8\n",
      "1   a9   b9   c9   d9\n",
      "2  a10  b10  c10  d10\n",
      "3  a11  b11  c11  d11 \n",
      "\n"
     ]
    }
   ],
   "source": [
    "print(df1,\"\\n\")\n",
    "print(df2,\"\\n\")\n",
    "print(df3,\"\\n\")"
   ]
  },
  {
   "cell_type": "markdown",
   "id": "d67cfebf-b65a-48da-aa99-b8b0bd28b4bb",
   "metadata": {},
   "source": [
    "Para empilhar os dataframe um sobre o outro usamos o método `concat([<list>])`, e passamos uma lista."
   ]
  },
  {
   "cell_type": "code",
   "execution_count": 3,
   "id": "466eb9fa-5823-403d-acdb-5e4e91a8e1dc",
   "metadata": {},
   "outputs": [
    {
     "name": "stdout",
     "output_type": "stream",
     "text": [
      "     A    B    C    D\n",
      "0   a0   b0   c0   d0\n",
      "1   a1   b1   c1   d1\n",
      "2   a2   b2   c2   d2\n",
      "3   a3   b3   c3   d3\n",
      "0   a4   b4   c4   d4\n",
      "1   a5   b5   c5   d5\n",
      "2   a6   b6   c6   d6\n",
      "3   a7   b7   c7   d7\n",
      "0   a8   b8   c8   d8\n",
      "1   a9   b9   c9   d9\n",
      "2  a10  b10  c10  d10\n",
      "3  a11  b11  c11  d11\n"
     ]
    }
   ],
   "source": [
    "row_concat = pd.concat([df1, df2, df3])\n",
    "\n",
    "print(row_concat)"
   ]
  },
  {
   "cell_type": "markdown",
   "id": "9062b0ae-da16-426e-ac9d-4ec0a5ed4323",
   "metadata": {},
   "source": [
    "Perceba que os dataframes são empilhados cegamente e os índices se matém o mesmo. Pode-se aplicar o método iloc para se constatar isso"
   ]
  },
  {
   "cell_type": "code",
   "execution_count": 4,
   "id": "ba8229a9-e080-4809-8d1c-67168a7b7450",
   "metadata": {},
   "outputs": [
    {
     "name": "stdout",
     "output_type": "stream",
     "text": [
      "A    a3\n",
      "B    b3\n",
      "C    c3\n",
      "D    d3\n",
      "Name: 3, dtype: object\n"
     ]
    }
   ],
   "source": [
    "print(row_concat.iloc[3,])"
   ]
  },
  {
   "cell_type": "markdown",
   "id": "aaeefd9e-5e4b-4598-91e6-7115d1541b44",
   "metadata": {},
   "source": [
    "Se cria-se uma nova serie de dados e tentassemos adicionar em um dataframe ela não seria feita corretamente, veja:"
   ]
  },
  {
   "cell_type": "code",
   "execution_count": 5,
   "id": "c7ce54c3-f6a0-4438-a2eb-5f9ecf77b9c3",
   "metadata": {},
   "outputs": [
    {
     "name": "stdout",
     "output_type": "stream",
     "text": [
      "     A    B    C    D    0\n",
      "0   a0   b0   c0   d0  NaN\n",
      "1   a1   b1   c1   d1  NaN\n",
      "2   a2   b2   c2   d2  NaN\n",
      "3   a3   b3   c3   d3  NaN\n",
      "0  NaN  NaN  NaN  NaN   n1\n",
      "1  NaN  NaN  NaN  NaN   n2\n",
      "2  NaN  NaN  NaN  NaN   n3\n",
      "3  NaN  NaN  NaN  NaN   n4\n"
     ]
    }
   ],
   "source": [
    "# Cria uma nova linha de dados\n",
    "new_row_series = pd.Series([\"n1\", \"n2\", \"n3\", \"n4\"])\n",
    "\n",
    "# tenta concatenar com o df1\n",
    "print(pd.concat([df1, new_row_series]))"
   ]
  },
  {
   "cell_type": "markdown",
   "id": "450e342d-fa1a-46ae-8763-a02d21401366",
   "metadata": {},
   "source": [
    "Para resolver esse problema precisamos converter nossa série em um dataframe com as colunas correspondentes"
   ]
  },
  {
   "cell_type": "code",
   "execution_count": 6,
   "id": "8e0c6e66-3f09-4eaf-b134-66afc9c5154f",
   "metadata": {},
   "outputs": [
    {
     "name": "stdout",
     "output_type": "stream",
     "text": [
      "    A   B   C   D\n",
      "0  n1  n2  n3  n4\n"
     ]
    }
   ],
   "source": [
    "# Observe os colchetes duplos\n",
    "new_row_df = pd.DataFrame([[\"n1\", \"n2\", \"n3\", \"n4\"]], columns=[\"A\", \"B\", \"C\", \"D\"])\n",
    "print(new_row_df)"
   ]
  },
  {
   "cell_type": "code",
   "execution_count": 7,
   "id": "2f59222f-35a2-4ad1-938a-d5d6a1e7b6b4",
   "metadata": {},
   "outputs": [
    {
     "name": "stdout",
     "output_type": "stream",
     "text": [
      "    A   B   C   D\n",
      "0  a0  b0  c0  d0\n",
      "1  a1  b1  c1  d1\n",
      "2  a2  b2  c2  d2\n",
      "3  a3  b3  c3  d3\n",
      "0  n1  n2  n3  n4\n"
     ]
    }
   ],
   "source": [
    "print(pd.concat([df1, new_row_df]))"
   ]
  },
  {
   "cell_type": "markdown",
   "id": "04b12009-6f77-4824-9856-26c7b625335c",
   "metadata": {},
   "source": [
    "Podemos criar um dicionário para se concatenar com o DataFrame **Desatualizado**"
   ]
  },
  {
   "cell_type": "code",
   "execution_count": 8,
   "id": "c5df4c7d-0672-4e60-8a54-2fe078e13b83",
   "metadata": {},
   "outputs": [],
   "source": [
    "# data_dict = {\"A\": \"n1\",\n",
    "#              \"B\": \"n2\",\n",
    "#              \"C\": \"n3\",\n",
    "#              \"D\": \"n4\",                \n",
    "#             }\n",
    "\n",
    "# print(pd.concat([df1, data_dict]))"
   ]
  },
  {
   "cell_type": "markdown",
   "id": "d1199ef0-4bed-4805-a851-31f8b445883f",
   "metadata": {},
   "source": [
    "Podemos ignorar os índices e apenas concatenar os dados utilizando o parâmetro `ignore_index=True`"
   ]
  },
  {
   "cell_type": "code",
   "execution_count": 9,
   "id": "c95beb13-8d28-4efa-84d3-13f91a6e64d5",
   "metadata": {},
   "outputs": [
    {
     "name": "stdout",
     "output_type": "stream",
     "text": [
      "      A    B    C    D\n",
      "0    a0   b0   c0   d0\n",
      "1    a1   b1   c1   d1\n",
      "2    a2   b2   c2   d2\n",
      "3    a3   b3   c3   d3\n",
      "4    a4   b4   c4   d4\n",
      "5    a5   b5   c5   d5\n",
      "6    a6   b6   c6   d6\n",
      "7    a7   b7   c7   d7\n",
      "8    a8   b8   c8   d8\n",
      "9    a9   b9   c9   d9\n",
      "10  a10  b10  c10  d10\n",
      "11  a11  b11  c11  d11\n"
     ]
    }
   ],
   "source": [
    "row_concat_i = pd.concat([df1, df2, df3], ignore_index=True)\n",
    "print(row_concat_i)"
   ]
  },
  {
   "cell_type": "markdown",
   "id": "87834522-9062-4da7-8ae0-2f1f56980091",
   "metadata": {},
   "source": [
    "Adicionar colunas é semelhante a adicionar linha, porém utilizando os parâmetro `axis=1`"
   ]
  },
  {
   "cell_type": "code",
   "execution_count": 10,
   "id": "dbb49f38-cc57-4e0a-87a3-d7b6fa82ccc3",
   "metadata": {},
   "outputs": [
    {
     "name": "stdout",
     "output_type": "stream",
     "text": [
      "    A   B   C   D   A   B   C   D    A    B    C    D\n",
      "0  a0  b0  c0  d0  a4  b4  c4  d4   a8   b8   c8   d8\n",
      "1  a1  b1  c1  d1  a5  b5  c5  d5   a9   b9   c9   d9\n",
      "2  a2  b2  c2  d2  a6  b6  c6  d6  a10  b10  c10  d10\n",
      "3  a3  b3  c3  d3  a7  b7  c7  d7  a11  b11  c11  d11\n"
     ]
    }
   ],
   "source": [
    "col_concat = pd.concat([df1, df2, df3], axis=1)\n",
    "print(col_concat)"
   ]
  },
  {
   "cell_type": "code",
   "execution_count": 11,
   "id": "72548cca-6778-4ce2-9313-792cd930de53",
   "metadata": {},
   "outputs": [
    {
     "name": "stdout",
     "output_type": "stream",
     "text": [
      "    A   A    A\n",
      "0  a0  a4   a8\n",
      "1  a1  a5   a9\n",
      "2  a2  a6  a10\n",
      "3  a3  a7  a11\n"
     ]
    }
   ],
   "source": [
    "# Selecionando coluna\n",
    "print(col_concat[\"A\"])"
   ]
  },
  {
   "cell_type": "code",
   "execution_count": 12,
   "id": "f67a05c9-a5b0-4999-89a4-9959284ca82f",
   "metadata": {},
   "outputs": [
    {
     "name": "stdout",
     "output_type": "stream",
     "text": [
      "    A   B   C   D   A   B   C   D    A    B    C    D new_col_list\n",
      "0  a0  b0  c0  d0  a4  b4  c4  d4   a8   b8   c8   d8           n1\n",
      "1  a1  b1  c1  d1  a5  b5  c5  d5   a9   b9   c9   d9           n2\n",
      "2  a2  b2  c2  d2  a6  b6  c6  d6  a10  b10  c10  d10           n3\n",
      "3  a3  b3  c3  d3  a7  b7  c7  d7  a11  b11  c11  d11           n4\n"
     ]
    }
   ],
   "source": [
    "# Adicionando uma coluna\n",
    "col_concat[\"new_col_list\"] = [\"n1\", \"n2\", \"n3\", \"n4\"]\n",
    "print(col_concat)"
   ]
  },
  {
   "cell_type": "code",
   "execution_count": 13,
   "id": "4eef881a-71c7-4775-be30-1bd8c1c9b235",
   "metadata": {},
   "outputs": [
    {
     "name": "stdout",
     "output_type": "stream",
     "text": [
      "   0   1   2   3   4   5   6   7    8    9    10   11\n",
      "0  a0  b0  c0  d0  a4  b4  c4  d4   a8   b8   c8   d8\n",
      "1  a1  b1  c1  d1  a5  b5  c5  d5   a9   b9   c9   d9\n",
      "2  a2  b2  c2  d2  a6  b6  c6  d6  a10  b10  c10  d10\n",
      "3  a3  b3  c3  d3  a7  b7  c7  d7  a11  b11  c11  d11\n"
     ]
    }
   ],
   "source": [
    "# Reiniciando os índices das colunas\n",
    "print(pd.concat([df1, df2, df3], axis=1, ignore_index=True))"
   ]
  },
  {
   "cell_type": "markdown",
   "id": "92569a27-dabd-4011-b2b3-2ad47ff7b1a8",
   "metadata": {},
   "source": [
    "Concatenação com índices diferentes<br>\n",
    "O que acontece quando os índices das linhas e das colunas não estão alinhados? Para testar isso, vamos alterar o nome das colunas do nosso dataframa"
   ]
  },
  {
   "cell_type": "code",
   "execution_count": 14,
   "id": "5dd1c1cf-84fa-4f42-997f-84390d976f1f",
   "metadata": {},
   "outputs": [],
   "source": [
    "df1.columns = [\"A\", \"B\", \"C\", \"D\"]\n",
    "df2.columns = [\"E\", \"F\", \"G\", \"H\"]\n",
    "df3.columns = [\"A\", \"C\", \"F\", \"H\"]"
   ]
  },
  {
   "cell_type": "markdown",
   "id": "8b5b7660-2b0d-4fbe-bc29-b0a5c9226095",
   "metadata": {},
   "source": [
    "Se tentarmos concatenar esses dataframe conforme foi feita até o momento, as colunas se alinharão e será preenchidos os espaços com **NaN**"
   ]
  },
  {
   "cell_type": "code",
   "execution_count": 15,
   "id": "f0479090-e8ec-48da-9401-03d32817b88e",
   "metadata": {},
   "outputs": [
    {
     "name": "stdout",
     "output_type": "stream",
     "text": [
      "     A    B    C    D    E    F    G    H\n",
      "0   a0   b0   c0   d0  NaN  NaN  NaN  NaN\n",
      "1   a1   b1   c1   d1  NaN  NaN  NaN  NaN\n",
      "2   a2   b2   c2   d2  NaN  NaN  NaN  NaN\n",
      "3   a3   b3   c3   d3  NaN  NaN  NaN  NaN\n",
      "0  NaN  NaN  NaN  NaN   a4   b4   c4   d4\n",
      "1  NaN  NaN  NaN  NaN   a5   b5   c5   d5\n",
      "2  NaN  NaN  NaN  NaN   a6   b6   c6   d6\n",
      "3  NaN  NaN  NaN  NaN   a7   b7   c7   d7\n",
      "0   a8  NaN   b8  NaN  NaN   c8  NaN   d8\n",
      "1   a9  NaN   b9  NaN  NaN   c9  NaN   d9\n",
      "2  a10  NaN  b10  NaN  NaN  c10  NaN  d10\n",
      "3  a11  NaN  b11  NaN  NaN  c11  NaN  d11\n"
     ]
    }
   ],
   "source": [
    "row_concat = pd.concat([df1, df2, df3])\n",
    "print(row_concat)"
   ]
  },
  {
   "cell_type": "markdown",
   "id": "2be07fb6-b009-4135-9a43-92ea5016fdc5",
   "metadata": {},
   "source": [
    "Uma maneira de evitar a inclusão de NaN é manter as colunas que sejam compartilhadas pela lista de objetos. Se tentarmos manter todas as colunas de todos os dataframe, teremos um dataframe vazio"
   ]
  },
  {
   "cell_type": "code",
   "execution_count": 16,
   "id": "6d08e20a-897b-4c7e-a91e-75a33d24aa1f",
   "metadata": {},
   "outputs": [
    {
     "name": "stdout",
     "output_type": "stream",
     "text": [
      "Empty DataFrame\n",
      "Columns: []\n",
      "Index: [0, 1, 2, 3, 0, 1, 2, 3, 0, 1, 2, 3]\n"
     ]
    }
   ],
   "source": [
    "print(pd.concat([df1, df2, df3], join=\"inner\"))"
   ]
  },
  {
   "cell_type": "markdown",
   "id": "0fbda985-501a-48d0-b6db-a724272b5ab0",
   "metadata": {},
   "source": [
    "Se compartilhas dataframe em comum, apenas os que derem macth retornaram"
   ]
  },
  {
   "cell_type": "code",
   "execution_count": 17,
   "id": "b59ab1e8-a3f3-4b95-8e20-3e5767a0d420",
   "metadata": {},
   "outputs": [
    {
     "name": "stdout",
     "output_type": "stream",
     "text": [
      "     A    C\n",
      "0   a0   c0\n",
      "1   a1   c1\n",
      "2   a2   c2\n",
      "3   a3   c3\n",
      "0   a8   b8\n",
      "1   a9   b9\n",
      "2  a10  b10\n",
      "3  a11  b11\n"
     ]
    }
   ],
   "source": [
    "print(pd.concat([df1, df3], ignore_index=False, join=\"inner\"))"
   ]
  },
  {
   "cell_type": "markdown",
   "id": "c5e02dbd-67c3-4aac-ba4f-7bf602c8634d",
   "metadata": {},
   "source": [
    "Concatenando colunas com linhas diferentes. Para isso, vamos alterar os índices do nosso DataFrame"
   ]
  },
  {
   "cell_type": "code",
   "execution_count": 18,
   "id": "ae183213-a472-48b6-851e-9d4207d062f8",
   "metadata": {},
   "outputs": [],
   "source": [
    "df1.index = [0, 1, 2, 3]\n",
    "df2.index = [4, 5, 6, 7]\n",
    "df3.index = [0, 2, 5, 7]"
   ]
  },
  {
   "cell_type": "markdown",
   "id": "5e261f8c-2a5f-490d-9028-36f8a1ca4b04",
   "metadata": {},
   "source": [
    "Ao concaternarmos ao longo de axis=1 ou axis=0 os novos dataframes serão somados por colunas, não havendo correspondência entre as linhas, aparecerão valores ausentes."
   ]
  },
  {
   "cell_type": "code",
   "execution_count": 19,
   "id": "ff9e8890-3cff-415d-95e3-a4bf96a2a11d",
   "metadata": {},
   "outputs": [
    {
     "name": "stdout",
     "output_type": "stream",
     "text": [
      "     A    B    C    D    E    F    G    H    A    C    F    H\n",
      "0   a0   b0   c0   d0  NaN  NaN  NaN  NaN   a8   b8   c8   d8\n",
      "1   a1   b1   c1   d1  NaN  NaN  NaN  NaN  NaN  NaN  NaN  NaN\n",
      "2   a2   b2   c2   d2  NaN  NaN  NaN  NaN   a9   b9   c9   d9\n",
      "3   a3   b3   c3   d3  NaN  NaN  NaN  NaN  NaN  NaN  NaN  NaN\n",
      "4  NaN  NaN  NaN  NaN   a4   b4   c4   d4  NaN  NaN  NaN  NaN\n",
      "5  NaN  NaN  NaN  NaN   a5   b5   c5   d5  a10  b10  c10  d10\n",
      "6  NaN  NaN  NaN  NaN   a6   b6   c6   d6  NaN  NaN  NaN  NaN\n",
      "7  NaN  NaN  NaN  NaN   a7   b7   c7   d7  a11  b11  c11  d11\n"
     ]
    }
   ],
   "source": [
    "col_concat = pd.concat([df1, df2, df3], axis=1)\n",
    "print(col_concat)"
   ]
  },
  {
   "cell_type": "markdown",
   "id": "0c0e076c-85ea-484e-bc9d-a1967a84cf7b",
   "metadata": {},
   "source": [
    "Para concatenar sem espaços vazios, podemos optar por concatenar apenas índices que coincidem"
   ]
  },
  {
   "cell_type": "code",
   "execution_count": 20,
   "id": "588923e9-826c-48e3-a6f1-0113e16fa629",
   "metadata": {},
   "outputs": [
    {
     "name": "stdout",
     "output_type": "stream",
     "text": [
      "    A   B   C   D   A   C   F   H\n",
      "0  a0  b0  c0  d0  a8  b8  c8  d8\n",
      "2  a2  b2  c2  d2  a9  b9  c9  d9\n"
     ]
    }
   ],
   "source": [
    "print(pd.concat([df1, df3], axis=1, join=\"inner\"))"
   ]
  },
  {
   "cell_type": "markdown",
   "id": "7757b680-061c-4bc4-9750-4c90ea0a0407",
   "metadata": {},
   "source": [
    "### Combinando vários conjuntos de dados\n",
    "\n"
   ]
  }
 ],
 "metadata": {
  "kernelspec": {
   "display_name": "Python 3 (ipykernel)",
   "language": "python",
   "name": "python3"
  },
  "language_info": {
   "codemirror_mode": {
    "name": "ipython",
    "version": 3
   },
   "file_extension": ".py",
   "mimetype": "text/x-python",
   "name": "python",
   "nbconvert_exporter": "python",
   "pygments_lexer": "ipython3",
   "version": "3.10.18"
  }
 },
 "nbformat": 4,
 "nbformat_minor": 5
}
