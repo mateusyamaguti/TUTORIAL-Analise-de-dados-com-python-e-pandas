{
 "cells": [
  {
   "cell_type": "markdown",
   "id": "72ee93c2-4f28-4939-be19-536c98ef74b6",
   "metadata": {},
   "source": [
    "# Capítulo 1 - Básico sobre DataFrame do Pandas"
   ]
  },
  {
   "cell_type": "markdown",
   "id": "0774c1c3-a2d5-44a5-a1cf-d2f851558c29",
   "metadata": {},
   "source": [
    "Panda é uma biblioteca em Python que permite a manipulação de dados tipo planilha<br>\n",
    "**Dataframe**: Representa dados de planilha ou retangulares completos<br>\n",
    "**Serie**: Corresponde a uma coluna do dataframe"
   ]
  },
  {
   "cell_type": "markdown",
   "id": "80379c84-0b27-4361-8d06-fa713a0b9e87",
   "metadata": {},
   "source": [
    "Para carregar o primeiro conjunto de código usaremos o método `read_csv(path, sep=\"\\t\"`. Por padrão o método read_csv separa so dados por ponto e virgula"
   ]
  },
  {
   "cell_type": "code",
   "execution_count": null,
   "id": "17ae10fe-63ff-4bda-b8de-5027cf84f77e",
   "metadata": {},
   "outputs": [],
   "source": [
    "import pandas as pd\n",
    "path = \"C:\\\\Users\\\\Mateus\\\\Documents\\\\MateusYamaguti\\\\TUTORIAL-Analise-de-dados-com-python-e-pandas\\\\data\\\\gapminder.tsv\"\n",
    "df = pd.read_csv(path, sep=\"\\t\")"
   ]
  },
  {
   "cell_type": "markdown",
   "id": "c895e838-ebe4-4b80-82fe-d93b579a1524",
   "metadata": {},
   "source": [
    "Verificar o tipo de dados que estamos trabalhando com `type(df)`"
   ]
  },
  {
   "cell_type": "code",
   "execution_count": 11,
   "id": "31ffdec1-994f-4112-88fd-77b8d3f1ea09",
   "metadata": {},
   "outputs": [
    {
     "name": "stdout",
     "output_type": "stream",
     "text": [
      "<class 'pandas.core.frame.DataFrame'>\n"
     ]
    }
   ],
   "source": [
    "print(type(df))"
   ]
  },
  {
   "cell_type": "markdown",
   "id": "ea6be858-47c3-4814-926b-e28ca87e214b",
   "metadata": {},
   "source": [
    "Verificar o número de linhas e colunas do dataframe a partir do atributo **shape**"
   ]
  },
  {
   "cell_type": "code",
   "execution_count": 14,
   "id": "582a1a84-0541-46ad-985a-01eab1e593a9",
   "metadata": {},
   "outputs": [
    {
     "name": "stdout",
     "output_type": "stream",
     "text": [
      "(1704, 6)\n"
     ]
    }
   ],
   "source": [
    "print(df.shape)"
   ]
  },
  {
   "cell_type": "markdown",
   "id": "b705e9e4-52cc-467f-abb0-0d81297b86a4",
   "metadata": {},
   "source": [
    "Para verificar os nomes da colunas utilizamos o atributo **columns**"
   ]
  },
  {
   "cell_type": "code",
   "execution_count": 16,
   "id": "95648af6-fca1-4004-8923-3505503a1bb4",
   "metadata": {},
   "outputs": [
    {
     "name": "stdout",
     "output_type": "stream",
     "text": [
      "Index(['country', 'continent', 'year', 'lifeExp', 'pop', 'gdpPercap'], dtype='object')\n"
     ]
    }
   ],
   "source": [
    "print(df.columns)"
   ]
  },
  {
   "cell_type": "markdown",
   "id": "9edb72db-1871-4143-bfc3-3ea6ea7ac0fe",
   "metadata": {},
   "source": [
    "Podemos obter tipo referete a cada coluna com o atributo **dtype**"
   ]
  },
  {
   "cell_type": "code",
   "execution_count": 19,
   "id": "d1d732c0-dc89-4319-add0-c1b75e44d63a",
   "metadata": {},
   "outputs": [
    {
     "name": "stdout",
     "output_type": "stream",
     "text": [
      "country       object\n",
      "continent     object\n",
      "year           int64\n",
      "lifeExp      float64\n",
      "pop            int64\n",
      "gdpPercap    float64\n",
      "dtype: object\n"
     ]
    }
   ],
   "source": [
    "print(df.dtypes)"
   ]
  },
  {
   "cell_type": "markdown",
   "id": "2eed3940-7bf0-4e4c-b935-99eefd31cf6c",
   "metadata": {},
   "source": [
    "Mais informações sobre o dataframe usando o método **info**"
   ]
  },
  {
   "cell_type": "code",
   "execution_count": 21,
   "id": "25374ebc-e9e0-4282-ae7c-202fa01bd4ee",
   "metadata": {},
   "outputs": [
    {
     "name": "stdout",
     "output_type": "stream",
     "text": [
      "<class 'pandas.core.frame.DataFrame'>\n",
      "RangeIndex: 1704 entries, 0 to 1703\n",
      "Data columns (total 6 columns):\n",
      " #   Column     Non-Null Count  Dtype  \n",
      "---  ------     --------------  -----  \n",
      " 0   country    1704 non-null   object \n",
      " 1   continent  1704 non-null   object \n",
      " 2   year       1704 non-null   int64  \n",
      " 3   lifeExp    1704 non-null   float64\n",
      " 4   pop        1704 non-null   int64  \n",
      " 5   gdpPercap  1704 non-null   float64\n",
      "dtypes: float64(2), int64(2), object(2)\n",
      "memory usage: 80.0+ KB\n",
      "None\n"
     ]
    }
   ],
   "source": [
    "print(df.info())"
   ]
  },
  {
   "cell_type": "markdown",
   "id": "11d3ab94-93c7-4a56-9397-19827fe85f9a",
   "metadata": {},
   "source": [
    "### Observando colunas, linhas e células\n",
    "Com a grande quantidade de dados atuais é mais indicado analisar os dataframe por meio subconjunto."
   ]
  },
  {
   "cell_type": "code",
   "execution_count": 25,
   "id": "543370c8-09cb-4a09-bc77-e54fc77be9ca",
   "metadata": {},
   "outputs": [
    {
     "name": "stdout",
     "output_type": "stream",
     "text": [
      "       country continent  year  lifeExp       pop   gdpPercap\n",
      "0  Afghanistan      Asia  1952   28.801   8425333  779.445314\n",
      "1  Afghanistan      Asia  1957   30.332   9240934  820.853030\n",
      "2  Afghanistan      Asia  1962   31.997  10267083  853.100710\n",
      "3  Afghanistan      Asia  1967   34.020  11537966  836.197138\n",
      "4  Afghanistan      Asia  1972   36.088  13079460  739.981106\n"
     ]
    }
   ],
   "source": [
    "# Verificar o cabeçalho com o método head()\n",
    "print(df.head())"
   ]
  },
  {
   "cell_type": "markdown",
   "id": "e4a1bd8b-da12-406b-9de2-16c99ae1e989",
   "metadata": {},
   "source": [
    "Se desejarmo observar um coluna específica, por exemplo 'country', basta seleciona-la entre colchetes"
   ]
  },
  {
   "cell_type": "code",
   "execution_count": 28,
   "id": "218180af-408c-43de-8456-6b24583bbcd2",
   "metadata": {},
   "outputs": [
    {
     "name": "stdout",
     "output_type": "stream",
     "text": [
      "0    Afghanistan\n",
      "1    Afghanistan\n",
      "2    Afghanistan\n",
      "3    Afghanistan\n",
      "4    Afghanistan\n",
      "Name: country, dtype: object\n"
     ]
    }
   ],
   "source": [
    "country_df = df[\"country\"]\n",
    "\n",
    "print(country_df.head())"
   ]
  },
  {
   "cell_type": "code",
   "execution_count": 29,
   "id": "49122ec2-57cf-4eda-a0c6-45249945d707",
   "metadata": {},
   "outputs": [
    {
     "name": "stdout",
     "output_type": "stream",
     "text": [
      "1699    Zimbabwe\n",
      "1700    Zimbabwe\n",
      "1701    Zimbabwe\n",
      "1702    Zimbabwe\n",
      "1703    Zimbabwe\n",
      "Name: country, dtype: object\n"
     ]
    }
   ],
   "source": [
    "# Mostrar os últimos 5 registros\n",
    "print(country_df.tail())"
   ]
  },
  {
   "cell_type": "markdown",
   "id": "3fd79be6-1ad1-41ba-af64-a6f42c46db6a",
   "metadata": {},
   "source": [
    "Para observar várias colunas, basta passar uma lista com os nomes da colunas"
   ]
  },
  {
   "cell_type": "code",
   "execution_count": 32,
   "id": "12da3acf-3a2c-40d5-99b0-ada18a63f21e",
   "metadata": {},
   "outputs": [
    {
     "name": "stdout",
     "output_type": "stream",
     "text": [
      "       country continent  year\n",
      "0  Afghanistan      Asia  1952\n",
      "1  Afghanistan      Asia  1957\n",
      "2  Afghanistan      Asia  1962\n",
      "3  Afghanistan      Asia  1967\n",
      "4  Afghanistan      Asia  1972\n"
     ]
    }
   ],
   "source": [
    "subset = df[[\"country\", \"continent\", \"year\"]]\n",
    "print(subset.head())"
   ]
  },
  {
   "cell_type": "markdown",
   "id": "92e50922-ae71-4883-91a7-c35b8be37e87",
   "metadata": {},
   "source": [
    "### Obtendo subconjuntos de linhas\n",
    "Podemos obter subconjunto de linhas de várias formas utilizando principalmente os método **loc** e **iloc**"
   ]
  },
  {
   "cell_type": "code",
   "execution_count": 35,
   "id": "13c05a26-5a20-41b5-8531-24c76970b05d",
   "metadata": {},
   "outputs": [
    {
     "name": "stdout",
     "output_type": "stream",
     "text": [
      "country      Afghanistan\n",
      "continent           Asia\n",
      "year                1952\n",
      "lifeExp           28.801\n",
      "pop              8425333\n",
      "gdpPercap     779.445314\n",
      "Name: 0, dtype: object\n"
     ]
    }
   ],
   "source": [
    "# Obtém a primeira linha\n",
    "print(df.loc[0])"
   ]
  },
  {
   "cell_type": "code",
   "execution_count": 36,
   "id": "cb283ea4-306d-48b9-943b-e0cd4c8045f8",
   "metadata": {},
   "outputs": [
    {
     "name": "stdout",
     "output_type": "stream",
     "text": [
      "country      Bangladesh\n",
      "continent          Asia\n",
      "year               1967\n",
      "lifeExp          43.453\n",
      "pop            62821884\n",
      "gdpPercap    721.186086\n",
      "Name: 99, dtype: object\n"
     ]
    }
   ],
   "source": [
    "# Obtém a centésima linha\n",
    "print(df.loc[99])"
   ]
  },
  {
   "cell_type": "markdown",
   "id": "e91e9f6a-3605-4458-865c-67404aa038f2",
   "metadata": {},
   "source": [
    "Para obter a últmia linha não podemos passar o índice -1 como sendo `df.loc[-1]`, isso ocasionará em um erro. Para pegar o último item devemos usar o método shape para encontrar seu índice final."
   ]
  },
  {
   "cell_type": "code",
   "execution_count": 40,
   "id": "04b6e93e-f422-415b-97f7-be4fffa00e3f",
   "metadata": {},
   "outputs": [
    {
     "name": "stdout",
     "output_type": "stream",
     "text": [
      "country        Zimbabwe\n",
      "continent        Africa\n",
      "year               2007\n",
      "lifeExp          43.487\n",
      "pop            12311143\n",
      "gdpPercap    469.709298\n",
      "Name: 1703, dtype: object\n"
     ]
    }
   ],
   "source": [
    "# Selecionando último registro\n",
    "number_of_rows = df.shape[0]\n",
    "\n",
    "# Última linha precisa subtrair menos 1, pois o python começa a contar do zero\n",
    "last_row_index = number_of_rows - 1\n",
    "\n",
    "print(df.loc[last_row_index])"
   ]
  }
 ],
 "metadata": {
  "kernelspec": {
   "display_name": "Python 3 (ipykernel)",
   "language": "python",
   "name": "python3"
  },
  "language_info": {
   "codemirror_mode": {
    "name": "ipython",
    "version": 3
   },
   "file_extension": ".py",
   "mimetype": "text/x-python",
   "name": "python",
   "nbconvert_exporter": "python",
   "pygments_lexer": "ipython3",
   "version": "3.10.18"
  }
 },
 "nbformat": 4,
 "nbformat_minor": 5
}
