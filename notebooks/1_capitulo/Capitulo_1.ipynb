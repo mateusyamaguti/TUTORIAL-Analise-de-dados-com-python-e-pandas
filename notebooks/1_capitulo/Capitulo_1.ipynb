{
 "cells": [
  {
   "cell_type": "markdown",
   "id": "72ee93c2-4f28-4939-be19-536c98ef74b6",
   "metadata": {},
   "source": [
    "# Capítulo 1 - Básico sobre DataFrame do Pandas"
   ]
  },
  {
   "cell_type": "markdown",
   "id": "0774c1c3-a2d5-44a5-a1cf-d2f851558c29",
   "metadata": {},
   "source": [
    "Panda é uma biblioteca em Python que permite a manipulação de dados tipo planilha<br>\n",
    "**Dataframe**: Representa dados de planilha ou retangulares completos<br>\n",
    "**Serie**: Corresponde a uma coluna do dataframe"
   ]
  },
  {
   "cell_type": "markdown",
   "id": "80379c84-0b27-4361-8d06-fa713a0b9e87",
   "metadata": {},
   "source": [
    "Para carregar o primeiro conjunto de código usaremos o método `read_csv(path, sep=\"\\t\"`. Por padrão o método read_csv separa so dados por ponto e virgula"
   ]
  },
  {
   "cell_type": "code",
   "execution_count": 2,
   "id": "17ae10fe-63ff-4bda-b8de-5027cf84f77e",
   "metadata": {},
   "outputs": [],
   "source": [
    "import pandas as pd\n",
    "path = \"C:\\\\Users\\\\Mateus\\\\Documents\\\\MateusYamaguti\\\\TUTORIAL-Analise-de-dados-com-python-e-pandas\\\\data\\\\gapminder.tsv\"\n",
    "df = pd.read_csv(path, sep=\"\\t\")"
   ]
  },
  {
   "cell_type": "markdown",
   "id": "c895e838-ebe4-4b80-82fe-d93b579a1524",
   "metadata": {},
   "source": [
    "Verificar o tipo de dados que estamos trabalhando com `type(df)`"
   ]
  },
  {
   "cell_type": "code",
   "execution_count": 3,
   "id": "31ffdec1-994f-4112-88fd-77b8d3f1ea09",
   "metadata": {},
   "outputs": [
    {
     "name": "stdout",
     "output_type": "stream",
     "text": [
      "<class 'pandas.core.frame.DataFrame'>\n"
     ]
    }
   ],
   "source": [
    "print(type(df))"
   ]
  },
  {
   "cell_type": "markdown",
   "id": "ea6be858-47c3-4814-926b-e28ca87e214b",
   "metadata": {},
   "source": [
    "Verificar o número de linhas e colunas do dataframe a partir do atributo **shape**"
   ]
  },
  {
   "cell_type": "code",
   "execution_count": 14,
   "id": "582a1a84-0541-46ad-985a-01eab1e593a9",
   "metadata": {},
   "outputs": [
    {
     "name": "stdout",
     "output_type": "stream",
     "text": [
      "(1704, 6)\n"
     ]
    }
   ],
   "source": [
    "print(df.shape)"
   ]
  },
  {
   "cell_type": "markdown",
   "id": "b705e9e4-52cc-467f-abb0-0d81297b86a4",
   "metadata": {},
   "source": [
    "Para verificar os nomes da colunas utilizamos o atributo **columns**"
   ]
  },
  {
   "cell_type": "code",
   "execution_count": 16,
   "id": "95648af6-fca1-4004-8923-3505503a1bb4",
   "metadata": {},
   "outputs": [
    {
     "name": "stdout",
     "output_type": "stream",
     "text": [
      "Index(['country', 'continent', 'year', 'lifeExp', 'pop', 'gdpPercap'], dtype='object')\n"
     ]
    }
   ],
   "source": [
    "print(df.columns)"
   ]
  },
  {
   "cell_type": "markdown",
   "id": "9edb72db-1871-4143-bfc3-3ea6ea7ac0fe",
   "metadata": {},
   "source": [
    "Podemos obter tipo referete a cada coluna com o atributo **dtype**"
   ]
  },
  {
   "cell_type": "code",
   "execution_count": 19,
   "id": "d1d732c0-dc89-4319-add0-c1b75e44d63a",
   "metadata": {},
   "outputs": [
    {
     "name": "stdout",
     "output_type": "stream",
     "text": [
      "country       object\n",
      "continent     object\n",
      "year           int64\n",
      "lifeExp      float64\n",
      "pop            int64\n",
      "gdpPercap    float64\n",
      "dtype: object\n"
     ]
    }
   ],
   "source": [
    "print(df.dtypes)"
   ]
  },
  {
   "cell_type": "markdown",
   "id": "2eed3940-7bf0-4e4c-b935-99eefd31cf6c",
   "metadata": {},
   "source": [
    "Mais informações sobre o dataframe usando o método **info**"
   ]
  },
  {
   "cell_type": "code",
   "execution_count": 21,
   "id": "25374ebc-e9e0-4282-ae7c-202fa01bd4ee",
   "metadata": {},
   "outputs": [
    {
     "name": "stdout",
     "output_type": "stream",
     "text": [
      "<class 'pandas.core.frame.DataFrame'>\n",
      "RangeIndex: 1704 entries, 0 to 1703\n",
      "Data columns (total 6 columns):\n",
      " #   Column     Non-Null Count  Dtype  \n",
      "---  ------     --------------  -----  \n",
      " 0   country    1704 non-null   object \n",
      " 1   continent  1704 non-null   object \n",
      " 2   year       1704 non-null   int64  \n",
      " 3   lifeExp    1704 non-null   float64\n",
      " 4   pop        1704 non-null   int64  \n",
      " 5   gdpPercap  1704 non-null   float64\n",
      "dtypes: float64(2), int64(2), object(2)\n",
      "memory usage: 80.0+ KB\n",
      "None\n"
     ]
    }
   ],
   "source": [
    "print(df.info())"
   ]
  },
  {
   "cell_type": "markdown",
   "id": "11d3ab94-93c7-4a56-9397-19827fe85f9a",
   "metadata": {},
   "source": [
    "### Observando colunas, linhas e células\n",
    "Com a grande quantidade de dados atuais é mais indicado analisar os dataframe por meio subconjunto."
   ]
  },
  {
   "cell_type": "code",
   "execution_count": 25,
   "id": "543370c8-09cb-4a09-bc77-e54fc77be9ca",
   "metadata": {},
   "outputs": [
    {
     "name": "stdout",
     "output_type": "stream",
     "text": [
      "       country continent  year  lifeExp       pop   gdpPercap\n",
      "0  Afghanistan      Asia  1952   28.801   8425333  779.445314\n",
      "1  Afghanistan      Asia  1957   30.332   9240934  820.853030\n",
      "2  Afghanistan      Asia  1962   31.997  10267083  853.100710\n",
      "3  Afghanistan      Asia  1967   34.020  11537966  836.197138\n",
      "4  Afghanistan      Asia  1972   36.088  13079460  739.981106\n"
     ]
    }
   ],
   "source": [
    "# Verificar o cabeçalho com o método head()\n",
    "print(df.head())"
   ]
  },
  {
   "cell_type": "markdown",
   "id": "e4a1bd8b-da12-406b-9de2-16c99ae1e989",
   "metadata": {},
   "source": [
    "Se desejarmo observar um coluna específica, por exemplo 'country', basta seleciona-la entre colchetes"
   ]
  },
  {
   "cell_type": "code",
   "execution_count": 28,
   "id": "218180af-408c-43de-8456-6b24583bbcd2",
   "metadata": {},
   "outputs": [
    {
     "name": "stdout",
     "output_type": "stream",
     "text": [
      "0    Afghanistan\n",
      "1    Afghanistan\n",
      "2    Afghanistan\n",
      "3    Afghanistan\n",
      "4    Afghanistan\n",
      "Name: country, dtype: object\n"
     ]
    }
   ],
   "source": [
    "country_df = df[\"country\"]\n",
    "\n",
    "print(country_df.head())"
   ]
  },
  {
   "cell_type": "code",
   "execution_count": 29,
   "id": "49122ec2-57cf-4eda-a0c6-45249945d707",
   "metadata": {},
   "outputs": [
    {
     "name": "stdout",
     "output_type": "stream",
     "text": [
      "1699    Zimbabwe\n",
      "1700    Zimbabwe\n",
      "1701    Zimbabwe\n",
      "1702    Zimbabwe\n",
      "1703    Zimbabwe\n",
      "Name: country, dtype: object\n"
     ]
    }
   ],
   "source": [
    "# Mostrar os últimos 5 registros\n",
    "print(country_df.tail())"
   ]
  },
  {
   "cell_type": "markdown",
   "id": "3fd79be6-1ad1-41ba-af64-a6f42c46db6a",
   "metadata": {},
   "source": [
    "Para observar várias colunas, basta passar uma lista com os nomes da colunas"
   ]
  },
  {
   "cell_type": "code",
   "execution_count": 15,
   "id": "12da3acf-3a2c-40d5-99b0-ada18a63f21e",
   "metadata": {},
   "outputs": [
    {
     "name": "stdout",
     "output_type": "stream",
     "text": [
      "       country continent  year\n",
      "0  Afghanistan      Asia  1952\n",
      "1  Afghanistan      Asia  1957\n",
      "2  Afghanistan      Asia  1962\n",
      "3  Afghanistan      Asia  1967\n",
      "4  Afghanistan      Asia  1972\n"
     ]
    }
   ],
   "source": [
    "subset = df[[\"country\", \"continent\", \"year\"]]\n",
    "print(subset.head())"
   ]
  },
  {
   "cell_type": "markdown",
   "id": "92e50922-ae71-4883-91a7-c35b8be37e87",
   "metadata": {},
   "source": [
    "### Obtendo subconjuntos de linhas\n",
    "Podemos obter subconjunto de linhas de várias formas utilizando principalmente os método **loc** e **iloc**"
   ]
  },
  {
   "cell_type": "code",
   "execution_count": 35,
   "id": "13c05a26-5a20-41b5-8531-24c76970b05d",
   "metadata": {},
   "outputs": [
    {
     "name": "stdout",
     "output_type": "stream",
     "text": [
      "country      Afghanistan\n",
      "continent           Asia\n",
      "year                1952\n",
      "lifeExp           28.801\n",
      "pop              8425333\n",
      "gdpPercap     779.445314\n",
      "Name: 0, dtype: object\n"
     ]
    }
   ],
   "source": [
    "# Obtém a primeira linha\n",
    "print(df.loc[0])"
   ]
  },
  {
   "cell_type": "code",
   "execution_count": 36,
   "id": "cb283ea4-306d-48b9-943b-e0cd4c8045f8",
   "metadata": {},
   "outputs": [
    {
     "name": "stdout",
     "output_type": "stream",
     "text": [
      "country      Bangladesh\n",
      "continent          Asia\n",
      "year               1967\n",
      "lifeExp          43.453\n",
      "pop            62821884\n",
      "gdpPercap    721.186086\n",
      "Name: 99, dtype: object\n"
     ]
    }
   ],
   "source": [
    "# Obtém a centésima linha\n",
    "print(df.loc[99])"
   ]
  },
  {
   "cell_type": "markdown",
   "id": "e91e9f6a-3605-4458-865c-67404aa038f2",
   "metadata": {},
   "source": [
    "Para obter a últmia linha não podemos passar o índice -1 como sendo `df.loc[-1]`, isso ocasionará em um erro. Para pegar o último item devemos usar o método shape para encontrar seu índice final."
   ]
  },
  {
   "cell_type": "code",
   "execution_count": 10,
   "id": "04b6e93e-f422-415b-97f7-be4fffa00e3f",
   "metadata": {},
   "outputs": [
    {
     "name": "stdout",
     "output_type": "stream",
     "text": [
      "country        Zimbabwe\n",
      "continent        Africa\n",
      "year               2007\n",
      "lifeExp          43.487\n",
      "pop            12311143\n",
      "gdpPercap    469.709298\n",
      "Name: 1703, dtype: object\n"
     ]
    }
   ],
   "source": [
    "# Selecionando último registro\n",
    "number_of_rows = df.shape[0]\n",
    "\n",
    "# Última linha precisa subtrair menos 1, pois o python começa a contar do zero\n",
    "last_row_index = number_of_rows - 1\n",
    "\n",
    "print(df.loc[last_row_index])"
   ]
  },
  {
   "cell_type": "markdown",
   "id": "c77ef471-bef6-475b-85c7-cd650630779a",
   "metadata": {},
   "source": [
    "Como alternativa podemos utilizar o método **tail** para devolver a última linha em vez de usar o default de 5"
   ]
  },
  {
   "cell_type": "code",
   "execution_count": 9,
   "id": "fd88e11d-f35c-4b30-b09d-5f8ec3ab274d",
   "metadata": {},
   "outputs": [
    {
     "name": "stdout",
     "output_type": "stream",
     "text": [
      "       country continent  year  lifeExp       pop   gdpPercap\n",
      "1703  Zimbabwe    Africa  2007   43.487  12311143  469.709298\n"
     ]
    }
   ],
   "source": [
    "print(df.tail(n=1))"
   ]
  },
  {
   "cell_type": "markdown",
   "id": "2f11d812-af94-4feb-aa37-d1fbf8acb8b2",
   "metadata": {},
   "source": [
    "Veja que os métodos `tail()` e `loc()` possuem apresentações diferente."
   ]
  },
  {
   "cell_type": "code",
   "execution_count": 21,
   "id": "3246f806-a398-4033-9df2-fc6f1d4323ea",
   "metadata": {},
   "outputs": [
    {
     "name": "stdout",
     "output_type": "stream",
     "text": [
      "country      Afghanistan\n",
      "continent           Asia\n",
      "year                1952\n",
      "lifeExp           28.801\n",
      "pop              8425333\n",
      "gdpPercap     779.445314\n",
      "Name: 0, dtype: object\n",
      "------------------------------ \n",
      "\n",
      "       country continent  year  lifeExp      pop   gdpPercap\n",
      "0  Afghanistan      Asia  1952   28.801  8425333  779.445314\n",
      "------------------------------ \n",
      "\n",
      "<class 'pandas.core.series.Series'> \n",
      "\n",
      "<class 'pandas.core.frame.DataFrame'> \n",
      "\n"
     ]
    }
   ],
   "source": [
    "subset_loc = df.loc[0]\n",
    "subset_head = df.head(n=1)\n",
    "\n",
    "# impressão com loc\n",
    "print(subset_loc)\n",
    "print(30*\"-\",\"\\n\")\n",
    "\n",
    "# impressão de head\n",
    "print(subset_head)\n",
    "print(30*\"-\",\"\\n\")\n",
    "\n",
    "# tipo de loc para uma linha\n",
    "print(type(subset_loc), \"\\n\")\n",
    "\n",
    "# tipo de head para uma linha\n",
    "print(type(subset_head), \"\\n\")"
   ]
  },
  {
   "cell_type": "markdown",
   "id": "e19f7742-3924-40b4-9dd7-7cdf3e0cc16a",
   "metadata": {},
   "source": [
    "Podemos obter subconjuntos com várias linhas. Veja que no código abaixo a ocorrência da linha 0 sendo a primeira, e as demais seguirem o mesmo padrão é apenas por coincidência, pois `loc()` faz sua busca por rótulo"
   ]
  },
  {
   "cell_type": "code",
   "execution_count": 23,
   "id": "0da4c991-1edb-4cec-95a9-05c710f44861",
   "metadata": {},
   "outputs": [
    {
     "name": "stdout",
     "output_type": "stream",
     "text": [
      "         country continent  year  lifeExp       pop    gdpPercap\n",
      "0    Afghanistan      Asia  1952   28.801   8425333   779.445314\n",
      "99    Bangladesh      Asia  1967   43.453  62821884   721.186086\n",
      "999     Mongolia      Asia  1967   51.253   1149500  1226.041130\n"
     ]
    }
   ],
   "source": [
    "# Selecionar 1ª, 100ª e 1000ª linha\n",
    "print(df.loc[[0, 99, 999]])"
   ]
  },
  {
   "cell_type": "markdown",
   "id": "032a6a8b-ac07-47b0-bf65-ad469dd63894",
   "metadata": {},
   "source": [
    "Podemos obter subconjuntos com base no índice da linha com o método `iloc`. Vale lembrar que a principal diferença entre `loc` e `iloc` em Pandas está na forma como acessam linhas e colunas. loc é usado para indexação baseada em rótulos (nomes das linhas e colunas), enquanto iloc é usado para indexação baseada em posição (números inteiros)"
   ]
  },
  {
   "cell_type": "code",
   "execution_count": 26,
   "id": "8ad7ba84-a7a3-41aa-a0e4-baef15dcec4b",
   "metadata": {},
   "outputs": [
    {
     "name": "stdout",
     "output_type": "stream",
     "text": [
      "country      Afghanistan\n",
      "continent           Asia\n",
      "year                1957\n",
      "lifeExp           30.332\n",
      "pop              9240934\n",
      "gdpPercap      820.85303\n",
      "Name: 1, dtype: object\n"
     ]
    }
   ],
   "source": [
    "# Obtém a segunda linha\n",
    "print(df.iloc[1])"
   ]
  },
  {
   "cell_type": "code",
   "execution_count": 27,
   "id": "708ac5b9-8667-4c60-8a77-0f0548390c91",
   "metadata": {},
   "outputs": [
    {
     "name": "stdout",
     "output_type": "stream",
     "text": [
      "country      Bangladesh\n",
      "continent          Asia\n",
      "year               1967\n",
      "lifeExp          43.453\n",
      "pop            62821884\n",
      "gdpPercap    721.186086\n",
      "Name: 99, dtype: object\n"
     ]
    }
   ],
   "source": [
    "# Obtém a centésima linha\n",
    "print(df.iloc[99])"
   ]
  },
  {
   "cell_type": "code",
   "execution_count": 28,
   "id": "72471adc-6936-4e04-91f9-4b1c7fd5ddde",
   "metadata": {},
   "outputs": [
    {
     "name": "stdout",
     "output_type": "stream",
     "text": [
      "country        Mongolia\n",
      "continent          Asia\n",
      "year               1967\n",
      "lifeExp          51.253\n",
      "pop             1149500\n",
      "gdpPercap    1226.04113\n",
      "Name: 999, dtype: object\n"
     ]
    }
   ],
   "source": [
    "# Obtém a milésima linha\n",
    "print(df.iloc[999])"
   ]
  },
  {
   "cell_type": "markdown",
   "id": "522a62ab-10d7-448e-8c92-ed0888f5718a",
   "metadata": {},
   "source": [
    "Com `iloc()` podemos obter a última linha passando o índice -1"
   ]
  },
  {
   "cell_type": "code",
   "execution_count": 29,
   "id": "3b41778c-f944-47ab-b4a8-a9369d01e776",
   "metadata": {},
   "outputs": [
    {
     "name": "stdout",
     "output_type": "stream",
     "text": [
      "country        Zimbabwe\n",
      "continent        Africa\n",
      "year               2007\n",
      "lifeExp          43.487\n",
      "pop            12311143\n",
      "gdpPercap    469.709298\n",
      "Name: 1703, dtype: object\n"
     ]
    }
   ],
   "source": [
    "# Obtendo a última linha\n",
    "print(df.iloc[-1])"
   ]
  },
  {
   "cell_type": "code",
   "execution_count": 39,
   "id": "7f300a84-1d17-4571-930f-6dc79c3c9ad6",
   "metadata": {},
   "outputs": [
    {
     "name": "stdout",
     "output_type": "stream",
     "text": [
      "         country continent  year  lifeExp       pop    gdpPercap\n",
      "0    Afghanistan      Asia  1952   28.801   8425333   779.445314\n",
      "99    Bangladesh      Asia  1967   43.453  62821884   721.186086\n",
      "999     Mongolia      Asia  1967   51.253   1149500  1226.041130\n"
     ]
    }
   ],
   "source": [
    "# Obtendo lista de linhas\n",
    "print(df.iloc[[0, 99, 999]])"
   ]
  },
  {
   "cell_type": "markdown",
   "id": "9a9ad2a6-66b4-468b-a7d3-c712d5247f3b",
   "metadata": {},
   "source": [
    "### Combinando tudo (linhas e colunas)\n",
    "\n",
    "Os método `loc()` e `iloc()` permitem combinar linhas e colunas. Sendo a sintaxe\n",
    "```python\n",
    "df.loc[[rows], [columns]]\n",
    "df.iloc[[rows], [columns]]\n",
    "```\n",
    "\n",
    "Além disso, como em python utilizamos dois ponto ( : ) para fazer fatiamento, podemos realizar o mesmo procedimento em pandas"
   ]
  },
  {
   "cell_type": "code",
   "execution_count": 42,
   "id": "8ae89820-4d2c-4256-a219-cba6eea72e54",
   "metadata": {},
   "outputs": [
    {
     "name": "stdout",
     "output_type": "stream",
     "text": [
      "   year       pop\n",
      "0  1952   8425333\n",
      "1  1957   9240934\n",
      "2  1962  10267083\n",
      "3  1967  11537966\n",
      "4  1972  13079460\n"
     ]
    }
   ],
   "source": [
    "# Buscar todas as linhas e as colunas year e pop\n",
    "subset = df.loc[:, [\"year\", \"pop\"]]\n",
    "print(subset.head())"
   ]
  },
  {
   "cell_type": "code",
   "execution_count": 44,
   "id": "c94d4244-fad1-409b-95f8-c8040dee2506",
   "metadata": {},
   "outputs": [
    {
     "name": "stdout",
     "output_type": "stream",
     "text": [
      "   year       pop   gdpPercap\n",
      "0  1952   8425333  779.445314\n",
      "1  1957   9240934  820.853030\n",
      "2  1962  10267083  853.100710\n",
      "3  1967  11537966  836.197138\n",
      "4  1972  13079460  739.981106\n"
     ]
    }
   ],
   "source": [
    "# Buscar subconjunto com iloc representados pelos índices das colunas\n",
    "subset = df.iloc[:, [2, 4, -1]]\n",
    "print(subset.head())"
   ]
  },
  {
   "cell_type": "markdown",
   "id": "4523a6eb-008f-4527-8b62-c87ed8885eb2",
   "metadata": {},
   "source": [
    "Podemos utilizar range para criar uma \"lista\" de inteiro a fim de gerar a indexação das colunas"
   ]
  },
  {
   "cell_type": "code",
   "execution_count": 52,
   "id": "1b429cf8-c211-4218-9d96-4fa0a3ce12b6",
   "metadata": {},
   "outputs": [
    {
     "name": "stdout",
     "output_type": "stream",
     "text": [
      "       country continent  year  lifeExp       pop   gdpPercap\n",
      "0  Afghanistan      Asia  1952   28.801   8425333  779.445314\n",
      "1  Afghanistan      Asia  1957   30.332   9240934  820.853030\n",
      "2  Afghanistan      Asia  1962   31.997  10267083  853.100710\n",
      "3  Afghanistan      Asia  1967   34.020  11537966  836.197138\n",
      "4  Afghanistan      Asia  1972   36.088  13079460  739.981106\n"
     ]
    }
   ],
   "source": [
    "# Cria intervalo de 0 a 4 inclusice\n",
    "small_range = list(range(6))\n",
    "# print(small_range\n",
    "\n",
    "# Obter o subconjunto do dataframe utilizando range\n",
    "subset = df.iloc[:, small_range]\n",
    "print(subset.head())"
   ]
  },
  {
   "cell_type": "markdown",
   "id": "1420073c-a118-4465-b1d5-bf84c1e32c9e",
   "metadata": {},
   "source": [
    "Também podemos utilizar apenas os dois pontos ( : ) para realizar o fatiamento, porém ele não terão significado nenhum no código"
   ]
  },
  {
   "cell_type": "code",
   "execution_count": 54,
   "id": "de18335b-cb05-4978-936b-62d1b3bf7501",
   "metadata": {},
   "outputs": [
    {
     "name": "stdout",
     "output_type": "stream",
     "text": [
      "       country continent  year\n",
      "0  Afghanistan      Asia  1952\n",
      "1  Afghanistan      Asia  1957\n",
      "2  Afghanistan      Asia  1962\n",
      "3  Afghanistan      Asia  1967\n",
      "4  Afghanistan      Asia  1972\n"
     ]
    }
   ],
   "source": [
    "subset = df.iloc[:, :3]\n",
    "print(subset.head())"
   ]
  },
  {
   "cell_type": "code",
   "execution_count": 55,
   "id": "98970070-8b77-4bf4-b995-574e3b46e459",
   "metadata": {},
   "outputs": [
    {
     "name": "stdout",
     "output_type": "stream",
     "text": [
      "   lifeExp       pop   gdpPercap\n",
      "0   28.801   8425333  779.445314\n",
      "1   30.332   9240934  820.853030\n",
      "2   31.997  10267083  853.100710\n",
      "3   34.020  11537966  836.197138\n",
      "4   36.088  13079460  739.981106\n"
     ]
    }
   ],
   "source": [
    "# Fatiamento de coluna 3 a 5 inclusive\n",
    "subset = df.iloc[:, 3:6]\n",
    "print(subset.head())"
   ]
  },
  {
   "cell_type": "code",
   "execution_count": 64,
   "id": "4a7daa11-c9bc-41e9-be43-d69b352fcc89",
   "metadata": {},
   "outputs": [
    {
     "name": "stdout",
     "output_type": "stream",
     "text": [
      "       country  year       pop\n",
      "0  Afghanistan  1952   8425333\n",
      "1  Afghanistan  1957   9240934\n",
      "2  Afghanistan  1962  10267083\n",
      "3  Afghanistan  1967  11537966\n",
      "4  Afghanistan  1972  13079460\n"
     ]
    }
   ],
   "source": [
    "# Fatiamento das seis primeiras colunas alternadamente\n",
    "subset = df.iloc[:, :6:2]\n",
    "print(subset.head())"
   ]
  },
  {
   "cell_type": "markdown",
   "id": "ce7e0ff1-efc3-44d4-b2fb-9a03c4bb00bb",
   "metadata": {},
   "source": [
    "De forma semelhante podemos realizar os subconjuntos com `loc()`"
   ]
  },
  {
   "cell_type": "code",
   "execution_count": 66,
   "id": "9e32003a-ca03-469f-a2e3-b3bc6bf09e8b",
   "metadata": {},
   "outputs": [
    {
     "name": "stdout",
     "output_type": "stream",
     "text": [
      "Angola\n"
     ]
    }
   ],
   "source": [
    "# Usando loc\n",
    "print(df.loc[42, \"country\"])"
   ]
  },
  {
   "cell_type": "code",
   "execution_count": 68,
   "id": "fffb450b-a7f0-4f06-aa10-37343eb95e75",
   "metadata": {},
   "outputs": [
    {
     "name": "stdout",
     "output_type": "stream",
     "text": [
      "0       Afghanistan\n",
      "1       Afghanistan\n",
      "2       Afghanistan\n",
      "3       Afghanistan\n",
      "4       Afghanistan\n",
      "           ...     \n",
      "1699       Zimbabwe\n",
      "1700       Zimbabwe\n",
      "1701       Zimbabwe\n",
      "1702       Zimbabwe\n",
      "1703       Zimbabwe\n",
      "Name: country, Length: 1704, dtype: object\n"
     ]
    }
   ],
   "source": [
    "# Usando loc\n",
    "print(df.loc[:, \"country\"])"
   ]
  },
  {
   "cell_type": "markdown",
   "id": "15b9d8d4-b78e-4dc0-ac68-0117bb67d6a0",
   "metadata": {},
   "source": [
    "Agora podemos combinar diversos subconjuntos"
   ]
  },
  {
   "cell_type": "code",
   "execution_count": 71,
   "id": "5b637719-758b-485c-92b5-834154ea1191",
   "metadata": {},
   "outputs": [
    {
     "name": "stdout",
     "output_type": "stream",
     "text": [
      "         country  lifeExp    gdpPercap\n",
      "0    Afghanistan   28.801   779.445314\n",
      "99    Bangladesh   43.453   721.186086\n",
      "999     Mongolia   51.253  1226.041130\n"
     ]
    }
   ],
   "source": [
    "# Obter com iloc() as linhas 1ª, 100ª e 1000ª, e as colunas: country, lifeExp e gdpPercap\n",
    "subset = df.iloc[[0, 99, 999], [0, 3, 5]]\n",
    "print(subset.head())"
   ]
  },
  {
   "cell_type": "code",
   "execution_count": 72,
   "id": "0ce2ae28",
   "metadata": {},
   "outputs": [
    {
     "name": "stdout",
     "output_type": "stream",
     "text": [
      "         country  lifeExp    gdpPercap\n",
      "0    Afghanistan   28.801   779.445314\n",
      "99    Bangladesh   43.453   721.186086\n",
      "999     Mongolia   51.253  1226.041130\n"
     ]
    }
   ],
   "source": [
    "# Obter com loc() as linhas 1ª, 100ª e 1000ª, e as colunas: country, lifeExp e gdpPercap\n",
    "subset = df.loc[[0, 99, 999], [\"country\", \"lifeExp\", \"gdpPercap\"]]\n",
    "print(subset.head())"
   ]
  },
  {
   "cell_type": "markdown",
   "id": "eba1005e-ef05-4e46-9a15-f75b7400e854",
   "metadata": {},
   "source": [
    "Geralmente utiliza-se o nome das colunas para fazer esses fatiamento, pois além de gerar mais legibilidade e significado, previni que em uma manutenção futura a alteração do índice cause alguma falha no código"
   ]
  },
  {
   "cell_type": "markdown",
   "id": "1f16863b-e430-4f70-8d06-7a973b230745",
   "metadata": {},
   "source": [
    "### Cálculos agrupados e agregados\n",
    "\n",
    "O maior trabalho é gerar valor aos dados por meio de informação. Logo, precisaremos trata-las para obter dados como: a expectativa de vida média, quantidade de países por continente, média populacional, entre outros.<br>\n",
    "Para cálculos agrupados podemos pensar na seguinte lógica: separar, aplicar e agrupar."
   ]
  },
  {
   "cell_type": "code",
   "execution_count": 77,
   "id": "960662aa-44e6-4eea-a457-9cbf098068be",
   "metadata": {},
   "outputs": [
    {
     "name": "stdout",
     "output_type": "stream",
     "text": [
      "year\n",
      "1952    49.057620\n",
      "1957    51.507401\n",
      "1962    53.609249\n",
      "1967    55.678290\n",
      "1972    57.647386\n",
      "1977    59.570157\n",
      "1982    61.533197\n",
      "1987    63.212613\n",
      "1992    64.160338\n",
      "1997    65.014676\n",
      "2002    65.694923\n",
      "2007    67.007423\n",
      "Name: lifeExp, dtype: float64\n"
     ]
    }
   ],
   "source": [
    "# Par cada ano em nossos dados, qual era a expectativa de vida média?\n",
    "# Para responder a essa pergunta, temos que separar nossos dados em partes (years e lifeExp), de acordo com o ano,\n",
    "# em seguida, obtermos a coluna 'lifeExp' e calculamos a média\n",
    "print(df.groupby(\"year\")[\"lifeExp\"].mean())\n"
   ]
  },
  {
   "cell_type": "markdown",
   "id": "f539e9a2-5912-4023-ac52-926878821909",
   "metadata": {},
   "source": [
    "Se quisermos especificar varias colunas. Podemos voltar a lógica da lista e relacionar atributo que estejam nas linhas e nas colunas."
   ]
  },
  {
   "cell_type": "code",
   "execution_count": 84,
   "id": "4886fb30-a507-4985-8071-5361c3183f0d",
   "metadata": {},
   "outputs": [
    {
     "name": "stdout",
     "output_type": "stream",
     "text": [
      "                  lifeExp     gdpPercap\n",
      "year continent                         \n",
      "1952 Africa     39.135500   1252.572466\n",
      "     Americas   53.279840   4079.062552\n",
      "     Asia       46.314394   5195.484004\n",
      "     Europe     64.408500   5661.057435\n",
      "     Oceania    69.255000  10298.085650\n",
      "1957 Africa     41.266346   1385.236062\n",
      "     Americas   55.960280   4616.043733\n",
      "     Asia       49.318544   5787.732940\n",
      "     Europe     66.703067   6963.012816\n",
      "     Oceania    70.295000  11598.522455\n",
      "1962 Africa     43.319442   1598.078825\n",
      "     Americas   58.398760   4901.541870\n",
      "     Asia       51.563223   5729.369625\n",
      "     Europe     68.539233   8365.486814\n",
      "     Oceania    71.085000  12696.452430\n",
      "1967 Africa     45.334538   2050.363801\n",
      "     Americas   60.410920   5668.253496\n",
      "     Asia       54.663640   5971.173374\n",
      "     Europe     69.737600  10143.823757\n",
      "     Oceania    71.310000  14495.021790\n",
      "1972 Africa     47.450942   2339.615674\n",
      "     Americas   62.394920   6491.334139\n",
      "     Asia       57.319269   8187.468699\n",
      "     Europe     70.775033  12479.575246\n",
      "     Oceania    71.910000  16417.333380\n",
      "1977 Africa     49.580423   2585.938508\n",
      "     Americas   64.391560   7352.007126\n",
      "     Asia       59.610556   7791.314020\n",
      "     Europe     71.937767  14283.979110\n",
      "     Oceania    72.855000  17283.957605\n",
      "1982 Africa     51.592865   2481.592960\n",
      "     Americas   66.228840   7506.737088\n",
      "     Asia       62.617939   7434.135157\n",
      "     Europe     72.806400  15617.896551\n",
      "     Oceania    74.290000  18554.709840\n",
      "1987 Africa     53.344788   2282.668991\n",
      "     Americas   68.090720   7793.400261\n",
      "     Asia       64.851182   7608.226508\n",
      "     Europe     73.642167  17214.310727\n",
      "     Oceania    75.320000  20448.040160\n",
      "1992 Africa     53.629577   2281.810333\n",
      "     Americas   69.568360   8044.934406\n",
      "     Asia       66.537212   8639.690248\n",
      "     Europe     74.440100  17061.568084\n",
      "     Oceania    76.945000  20894.045885\n",
      "1997 Africa     53.598269   2378.759555\n",
      "     Americas   71.150480   8889.300863\n",
      "     Asia       68.020515   9834.093295\n",
      "     Europe     75.505167  19076.781802\n",
      "     Oceania    78.190000  24024.175170\n",
      "2002 Africa     53.325231   2599.385159\n",
      "     Americas   72.422040   9287.677107\n",
      "     Asia       69.233879  10174.090397\n",
      "     Europe     76.700600  21711.732422\n",
      "     Oceania    79.740000  26938.778040\n",
      "2007 Africa     54.806038   3089.032605\n",
      "     Americas   73.608120  11003.031625\n",
      "     Asia       70.728485  12473.026870\n",
      "     Europe     77.648600  25054.481636\n",
      "     Oceania    80.719500  29810.188275\n"
     ]
    }
   ],
   "source": [
    "# A barra invertida nos permite um linha longa em python\n",
    "multi_group_var = df.groupby\\\n",
    "    ([\"year\", \"continent\"])\\\n",
    "    [[\"lifeExp\", \"gdpPercap\"]].\\\n",
    "    mean()\n",
    "\n",
    "print(multi_group_var)\n",
    "                "
   ]
  },
  {
   "cell_type": "code",
   "execution_count": 86,
   "id": "42703957-17a3-497d-9203-a1aaafd318a8",
   "metadata": {},
   "outputs": [
    {
     "name": "stdout",
     "output_type": "stream",
     "text": [
      "    year continent    lifeExp     gdpPercap\n",
      "0   1952    Africa  39.135500   1252.572466\n",
      "1   1952  Americas  53.279840   4079.062552\n",
      "2   1952      Asia  46.314394   5195.484004\n",
      "3   1952    Europe  64.408500   5661.057435\n",
      "4   1952   Oceania  69.255000  10298.085650\n",
      "5   1957    Africa  41.266346   1385.236062\n",
      "6   1957  Americas  55.960280   4616.043733\n",
      "7   1957      Asia  49.318544   5787.732940\n",
      "8   1957    Europe  66.703067   6963.012816\n",
      "9   1957   Oceania  70.295000  11598.522455\n",
      "10  1962    Africa  43.319442   1598.078825\n",
      "11  1962  Americas  58.398760   4901.541870\n",
      "12  1962      Asia  51.563223   5729.369625\n",
      "13  1962    Europe  68.539233   8365.486814\n",
      "14  1962   Oceania  71.085000  12696.452430\n"
     ]
    }
   ],
   "source": [
    "# Se precisar achatar o dataframe utilize reset_index()\n",
    "flat = multi_group_var.reset_index()\n",
    "print(flat.head(15))"
   ]
  },
  {
   "cell_type": "markdown",
   "id": "aa008090-e99a-401f-9f5a-aa177d295017",
   "metadata": {},
   "source": [
    "Podemos utilizar `nunique` pra pesquisar valores únicos e `value_counts` para frequência de uma série em Pandas"
   ]
  },
  {
   "cell_type": "code",
   "execution_count": 90,
   "id": "cf09bfa5-7746-4d00-bd80-6627fda31e87",
   "metadata": {},
   "outputs": [
    {
     "name": "stdout",
     "output_type": "stream",
     "text": [
      "continent\n",
      "Africa      [Algeria, Angola, Benin, Botswana, Burkina Fas...\n",
      "Americas    [Argentina, Bolivia, Brazil, Canada, Chile, Co...\n",
      "Asia        [Afghanistan, Bahrain, Bangladesh, Cambodia, C...\n",
      "Europe      [Albania, Austria, Belgium, Bosnia and Herzego...\n",
      "Oceania                              [Australia, New Zealand]\n",
      "Name: country, dtype: object \n",
      "\n",
      "continent\n",
      "Africa      52\n",
      "Americas    25\n",
      "Asia        33\n",
      "Europe      30\n",
      "Oceania      2\n",
      "Name: country, dtype: int64\n"
     ]
    }
   ],
   "source": [
    "# Apresentar os valores únicos em uma série\n",
    "print(df.groupby(\"continent\")[\"country\"].unique(),\"\\n\")\n",
    "\n",
    "# Cacular o número de valores únicos em uma série\n",
    "print(df.groupby(\"continent\")[\"country\"].nunique())"
   ]
  },
  {
   "cell_type": "code",
   "execution_count": 99,
   "id": "16a45416-4be6-4b27-9363-579f2dc80a24",
   "metadata": {},
   "outputs": [
    {
     "name": "stdout",
     "output_type": "stream",
     "text": [
      "continent  country       \n",
      "Africa     Algeria           12\n",
      "           Angola            12\n",
      "           Benin             12\n",
      "           Botswana          12\n",
      "           Burkina Faso      12\n",
      "                             ..\n",
      "Europe     Switzerland       12\n",
      "           Turkey            12\n",
      "           United Kingdom    12\n",
      "Oceania    Australia         12\n",
      "           New Zealand       12\n",
      "Name: count, Length: 142, dtype: int64\n"
     ]
    }
   ],
   "source": [
    "# Podemos buscar valores contador de valores que se repetem\n",
    "print(df.groupby(\"continent\")[\"country\"].value_counts())"
   ]
  },
  {
   "cell_type": "markdown",
   "id": "27f80e2d-03ef-4bc6-9b92-dc5541fd927f",
   "metadata": {},
   "source": [
    "### Plotagem básica\n",
    "A plotagem ajuda na visualiação, identificar tendências, ajuda a limpas dados entre outras coisas.<br>\n",
    "Vamos analisar a expectativa de vida da população mundial por ano.\n"
   ]
  },
  {
   "cell_type": "code",
   "execution_count": 5,
   "id": "5ab8b328-6e6d-4f37-b20d-b49b8014dbad",
   "metadata": {},
   "outputs": [
    {
     "name": "stdout",
     "output_type": "stream",
     "text": [
      "year\n",
      "1952    49.057620\n",
      "1957    51.507401\n",
      "1962    53.609249\n",
      "1967    55.678290\n",
      "1972    57.647386\n",
      "1977    59.570157\n",
      "1982    61.533197\n",
      "1987    63.212613\n",
      "1992    64.160338\n",
      "1997    65.014676\n",
      "2002    65.694923\n",
      "2007    67.007423\n",
      "Name: lifeExp, dtype: float64\n"
     ]
    }
   ],
   "source": [
    "global_yearly_life_expectancy = df.groupby(\"year\")[\"lifeExp\"].mean()\n",
    "print(global_yearly_life_expectancy)"
   ]
  },
  {
   "cell_type": "code",
   "execution_count": 6,
   "id": "f7c361ee-ce8c-4d0c-a6f2-25091ee3a5c1",
   "metadata": {},
   "outputs": [
    {
     "data": {
      "image/png": "[encoded data removed]",
      "text/plain": [
       "<Figure size 640x480 with 1 Axes>"
      ]
     },
     "metadata": {},
     "output_type": "display_data"
    }
   ],
   "source": [
    "# Plotagem simples\n",
    "import matplotlib.pyplot as plt \n",
    "global_yearly_life_expectancy.plot()\n",
    "plt.show()"
   ]
  }
 ],
 "metadata": {
  "kernelspec": {
   "display_name": "Python 3 (ipykernel)",
   "language": "python",
   "name": "python3"
  },
  "language_info": {
   "codemirror_mode": {
    "name": "ipython",
    "version": 3
   },
   "file_extension": ".py",
   "mimetype": "text/x-python",
   "name": "python",
   "nbconvert_exporter": "python",
   "pygments_lexer": "ipython3",
   "version": "3.10.18"
  }
 },
 "nbformat": 4,
 "nbformat_minor": 5
}
